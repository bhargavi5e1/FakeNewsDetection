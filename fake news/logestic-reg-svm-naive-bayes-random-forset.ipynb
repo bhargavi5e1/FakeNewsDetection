{
 "cells": [
  {
   "cell_type": "code",
   "execution_count": 19,
   "id": "c5c094e4",
   "metadata": {},
   "outputs": [],
   "source": [
    "import pandas as pd\n",
    "import numpy as np"
   ]
  },
  {
   "cell_type": "code",
   "execution_count": 20,
   "id": "6cfa7013",
   "metadata": {
    "execution": {
     "iopub.execute_input": "2023-10-04T11:16:40.783639Z",
     "iopub.status.busy": "2023-10-04T11:16:40.783168Z",
     "iopub.status.idle": "2023-10-04T11:16:43.664117Z",
     "shell.execute_reply": "2023-10-04T11:16:43.663150Z"
    },
    "papermill": {
     "duration": 2.893892,
     "end_time": "2023-10-04T11:16:43.668023",
     "exception": false,
     "start_time": "2023-10-04T11:16:40.774131",
     "status": "completed"
    },
    "tags": []
   },
   "outputs": [
    {
     "name": "stdout",
     "output_type": "stream",
     "text": [
      "                                               title  \\\n",
      "0  As U.S. budget fight looms, Republicans flip t...   \n",
      "1  U.S. military to accept transgender recruits o...   \n",
      "2  Senior U.S. Republican senator: 'Let Mr. Muell...   \n",
      "3  FBI Russia probe helped by Australian diplomat...   \n",
      "4  Trump wants Postal Service to charge 'much mor...   \n",
      "5  White House, Congress prepare for talks on spe...   \n",
      "6  Trump says Russia probe will be fair, but time...   \n",
      "7  Factbox: Trump on Twitter (Dec 29) - Approval ...   \n",
      "8         Trump on Twitter (Dec 28) - Global Warming   \n",
      "9  Alabama official to certify Senator-elect Jone...   \n",
      "\n",
      "                                                text       subject  \\\n",
      "0  WASHINGTON (Reuters) - The head of a conservat...  politicsNews   \n",
      "1  WASHINGTON (Reuters) - Transgender people will...  politicsNews   \n",
      "2  WASHINGTON (Reuters) - The special counsel inv...  politicsNews   \n",
      "3  WASHINGTON (Reuters) - Trump campaign adviser ...  politicsNews   \n",
      "4  SEATTLE/WASHINGTON (Reuters) - President Donal...  politicsNews   \n",
      "5  WEST PALM BEACH, Fla./WASHINGTON (Reuters) - T...  politicsNews   \n",
      "6  WEST PALM BEACH, Fla (Reuters) - President Don...  politicsNews   \n",
      "7  The following statements were posted to the ve...  politicsNews   \n",
      "8  The following statements were posted to the ve...  politicsNews   \n",
      "9  WASHINGTON (Reuters) - Alabama Secretary of St...  politicsNews   \n",
      "\n",
      "                 date  \n",
      "0  December 31, 2017   \n",
      "1  December 29, 2017   \n",
      "2  December 31, 2017   \n",
      "3  December 30, 2017   \n",
      "4  December 29, 2017   \n",
      "5  December 29, 2017   \n",
      "6  December 29, 2017   \n",
      "7  December 29, 2017   \n",
      "8  December 29, 2017   \n",
      "9  December 28, 2017   \n"
     ]
    },
    {
     "data": {
      "text/html": [
       "<div>\n",
       "<style scoped>\n",
       "    .dataframe tbody tr th:only-of-type {\n",
       "        vertical-align: middle;\n",
       "    }\n",
       "\n",
       "    .dataframe tbody tr th {\n",
       "        vertical-align: top;\n",
       "    }\n",
       "\n",
       "    .dataframe thead th {\n",
       "        text-align: right;\n",
       "    }\n",
       "</style>\n",
       "<table border=\"1\" class=\"dataframe\">\n",
       "  <thead>\n",
       "    <tr style=\"text-align: right;\">\n",
       "      <th></th>\n",
       "      <th>title</th>\n",
       "      <th>text</th>\n",
       "      <th>subject</th>\n",
       "      <th>date</th>\n",
       "    </tr>\n",
       "  </thead>\n",
       "  <tbody>\n",
       "    <tr>\n",
       "      <th>0</th>\n",
       "      <td>Donald Trump Sends Out Embarrassing New Year’...</td>\n",
       "      <td>Donald Trump just couldn t wish all Americans ...</td>\n",
       "      <td>News</td>\n",
       "      <td>December 31, 2017</td>\n",
       "    </tr>\n",
       "    <tr>\n",
       "      <th>1</th>\n",
       "      <td>Drunk Bragging Trump Staffer Started Russian ...</td>\n",
       "      <td>House Intelligence Committee Chairman Devin Nu...</td>\n",
       "      <td>News</td>\n",
       "      <td>December 31, 2017</td>\n",
       "    </tr>\n",
       "    <tr>\n",
       "      <th>2</th>\n",
       "      <td>Sheriff David Clarke Becomes An Internet Joke...</td>\n",
       "      <td>On Friday, it was revealed that former Milwauk...</td>\n",
       "      <td>News</td>\n",
       "      <td>December 30, 2017</td>\n",
       "    </tr>\n",
       "    <tr>\n",
       "      <th>3</th>\n",
       "      <td>Trump Is So Obsessed He Even Has Obama’s Name...</td>\n",
       "      <td>On Christmas day, Donald Trump announced that ...</td>\n",
       "      <td>News</td>\n",
       "      <td>December 29, 2017</td>\n",
       "    </tr>\n",
       "  </tbody>\n",
       "</table>\n",
       "</div>"
      ],
      "text/plain": [
       "                                               title  \\\n",
       "0   Donald Trump Sends Out Embarrassing New Year’...   \n",
       "1   Drunk Bragging Trump Staffer Started Russian ...   \n",
       "2   Sheriff David Clarke Becomes An Internet Joke...   \n",
       "3   Trump Is So Obsessed He Even Has Obama’s Name...   \n",
       "\n",
       "                                                text subject  \\\n",
       "0  Donald Trump just couldn t wish all Americans ...    News   \n",
       "1  House Intelligence Committee Chairman Devin Nu...    News   \n",
       "2  On Friday, it was revealed that former Milwauk...    News   \n",
       "3  On Christmas day, Donald Trump announced that ...    News   \n",
       "\n",
       "                date  \n",
       "0  December 31, 2017  \n",
       "1  December 31, 2017  \n",
       "2  December 30, 2017  \n",
       "3  December 29, 2017  "
      ]
     },
     "execution_count": 20,
     "metadata": {},
     "output_type": "execute_result"
    }
   ],
   "source": [
    "true_data=pd.read_csv(r'News _dataset\\True.csv')\n",
    "fake_data=pd.read_csv(r'News _dataset\\Fake.csv')\n",
    "\n",
    "print(true_data[0:10])\n",
    "fake_data[0:4]"
   ]
  },
  {
   "cell_type": "code",
   "execution_count": 21,
   "id": "8db0ab6f",
   "metadata": {
    "execution": {
     "iopub.execute_input": "2023-10-04T11:16:43.691010Z",
     "iopub.status.busy": "2023-10-04T11:16:43.690624Z",
     "iopub.status.idle": "2023-10-04T11:16:43.698276Z",
     "shell.execute_reply": "2023-10-04T11:16:43.697333Z"
    },
    "papermill": {
     "duration": 0.020328,
     "end_time": "2023-10-04T11:16:43.701223",
     "exception": false,
     "start_time": "2023-10-04T11:16:43.680895",
     "status": "completed"
    },
    "tags": []
   },
   "outputs": [
    {
     "name": "stdout",
     "output_type": "stream",
     "text": [
      "WASHINGTON (Reuters) - The head of a conservative Republican faction in the U.S. Congress, who voted this month for a huge expansion of the national debt to pay for tax cuts, called himself a “fiscal conservative” on Sunday and urged budget restraint in 2018. In keeping with a sharp pivot under way among Republicans, U.S. Representative Mark Meadows, speaking on CBS’ “Face the Nation,” drew a hard line on federal spending, which lawmakers are bracing to do battle over in January. When they return from the holidays on Wednesday, lawmakers will begin trying to pass a federal budget in a fight likely to be linked to other issues, such as immigration policy, even as the November congressional election campaigns approach in which Republicans will seek to keep control of Congress. President Donald Trump and his Republicans want a big budget increase in military spending, while Democrats also want proportional increases for non-defense “discretionary” spending on programs that support education, scientific research, infrastructure, public health and environmental protection. “The (Trump) administration has already been willing to say: ‘We’re going to increase non-defense discretionary spending ... by about 7 percent,’” Meadows, chairman of the small but influential House Freedom Caucus, said on the program. “Now, Democrats are saying that’s not enough, we need to give the government a pay raise of 10 to 11 percent. For a fiscal conservative, I don’t see where the rationale is. ... Eventually you run out of other people’s money,” he said. Meadows was among Republicans who voted in late December for their party’s debt-financed tax overhaul, which is expected to balloon the federal budget deficit and add about $1.5 trillion over 10 years to the $20 trillion national debt. “It’s interesting to hear Mark talk about fiscal responsibility,” Democratic U.S. Representative Joseph Crowley said on CBS. Crowley said the Republican tax bill would require the  United States to borrow $1.5 trillion, to be paid off by future generations, to finance tax cuts for corporations and the rich. “This is one of the least ... fiscally responsible bills we’ve ever seen passed in the history of the House of Representatives. I think we’re going to be paying for this for many, many years to come,” Crowley said. Republicans insist the tax package, the biggest U.S. tax overhaul in more than 30 years,  will boost the economy and job growth. House Speaker Paul Ryan, who also supported the tax bill, recently went further than Meadows, making clear in a radio interview that welfare or “entitlement reform,” as the party often calls it, would be a top Republican priority in 2018. In Republican parlance, “entitlement” programs mean food stamps, housing assistance, Medicare and Medicaid health insurance for the elderly, poor and disabled, as well as other programs created by Washington to assist the needy. Democrats seized on Ryan’s early December remarks, saying they showed Republicans would try to pay for their tax overhaul by seeking spending cuts for social programs. But the goals of House Republicans may have to take a back seat to the Senate, where the votes of some Democrats will be needed to approve a budget and prevent a government shutdown. Democrats will use their leverage in the Senate, which Republicans narrowly control, to defend both discretionary non-defense programs and social spending, while tackling the issue of the “Dreamers,” people brought illegally to the country as children. Trump in September put a March 2018 expiration date on the Deferred Action for Childhood Arrivals, or DACA, program, which protects the young immigrants from deportation and provides them with work permits. The president has said in recent Twitter messages he wants funding for his proposed Mexican border wall and other immigration law changes in exchange for agreeing to help the Dreamers. Representative Debbie Dingell told CBS she did not favor linking that issue to other policy objectives, such as wall funding. “We need to do DACA clean,” she said.  On Wednesday, Trump aides will meet with congressional leaders to discuss those issues. That will be followed by a weekend of strategy sessions for Trump and Republican leaders on Jan. 6 and 7, the White House said. Trump was also scheduled to meet on Sunday with Florida Republican Governor Rick Scott, who wants more emergency aid. The House has passed an $81 billion aid package after hurricanes in Florida, Texas and Puerto Rico, and wildfires in California. The package far exceeded the $44 billion requested by the Trump administration. The Senate has not yet voted on the aid. \n"
     ]
    },
    {
     "data": {
      "text/plain": [
       "Index(['title', 'text', 'subject', 'date'], dtype='object')"
      ]
     },
     "execution_count": 21,
     "metadata": {},
     "output_type": "execute_result"
    }
   ],
   "source": [
    "print(true_data['text'][0])\n",
    "true_data.columns"
   ]
  },
  {
   "cell_type": "code",
   "execution_count": 22,
   "id": "e60df3a3",
   "metadata": {
    "execution": {
     "iopub.execute_input": "2023-10-04T11:16:43.720722Z",
     "iopub.status.busy": "2023-10-04T11:16:43.719535Z",
     "iopub.status.idle": "2023-10-04T11:16:43.726799Z",
     "shell.execute_reply": "2023-10-04T11:16:43.725843Z"
    },
    "papermill": {
     "duration": 0.01918,
     "end_time": "2023-10-04T11:16:43.728918",
     "exception": false,
     "start_time": "2023-10-04T11:16:43.709738",
     "status": "completed"
    },
    "tags": []
   },
   "outputs": [
    {
     "data": {
      "text/plain": [
       "21417"
      ]
     },
     "execution_count": 22,
     "metadata": {},
     "output_type": "execute_result"
    }
   ],
   "source": [
    "len(true_data)\n"
   ]
  },
  {
   "cell_type": "code",
   "execution_count": 23,
   "id": "b60a4f11",
   "metadata": {
    "execution": {
     "iopub.execute_input": "2023-10-04T11:16:43.748025Z",
     "iopub.status.busy": "2023-10-04T11:16:43.747589Z",
     "iopub.status.idle": "2023-10-04T11:16:43.754577Z",
     "shell.execute_reply": "2023-10-04T11:16:43.753580Z"
    },
    "papermill": {
     "duration": 0.019156,
     "end_time": "2023-10-04T11:16:43.756676",
     "exception": false,
     "start_time": "2023-10-04T11:16:43.737520",
     "status": "completed"
    },
    "tags": []
   },
   "outputs": [
    {
     "data": {
      "text/plain": [
       "23481"
      ]
     },
     "execution_count": 23,
     "metadata": {},
     "output_type": "execute_result"
    }
   ],
   "source": [
    "len(fake_data)"
   ]
  },
  {
   "cell_type": "code",
   "execution_count": 24,
   "id": "3a2f8e17",
   "metadata": {
    "execution": {
     "iopub.execute_input": "2023-10-04T11:16:43.776663Z",
     "iopub.status.busy": "2023-10-04T11:16:43.776193Z",
     "iopub.status.idle": "2023-10-04T11:16:43.793813Z",
     "shell.execute_reply": "2023-10-04T11:16:43.792757Z"
    },
    "papermill": {
     "duration": 0.03028,
     "end_time": "2023-10-04T11:16:43.795757",
     "exception": false,
     "start_time": "2023-10-04T11:16:43.765477",
     "status": "completed"
    },
    "tags": []
   },
   "outputs": [
    {
     "name": "stdout",
     "output_type": "stream",
     "text": [
      "                                               title  \\\n",
      "0  As U.S. budget fight looms, Republicans flip t...   \n",
      "1  U.S. military to accept transgender recruits o...   \n",
      "2  Senior U.S. Republican senator: 'Let Mr. Muell...   \n",
      "3  FBI Russia probe helped by Australian diplomat...   \n",
      "4  Trump wants Postal Service to charge 'much mor...   \n",
      "\n",
      "                                                text       subject  \\\n",
      "0  WASHINGTON (Reuters) - The head of a conservat...  politicsNews   \n",
      "1  WASHINGTON (Reuters) - Transgender people will...  politicsNews   \n",
      "2  WASHINGTON (Reuters) - The special counsel inv...  politicsNews   \n",
      "3  WASHINGTON (Reuters) - Trump campaign adviser ...  politicsNews   \n",
      "4  SEATTLE/WASHINGTON (Reuters) - President Donal...  politicsNews   \n",
      "\n",
      "                 date  label  \n",
      "0  December 31, 2017       0  \n",
      "1  December 29, 2017       0  \n",
      "2  December 31, 2017       0  \n",
      "3  December 30, 2017       0  \n",
      "4  December 29, 2017       0  \n"
     ]
    },
    {
     "data": {
      "text/html": [
       "<div>\n",
       "<style scoped>\n",
       "    .dataframe tbody tr th:only-of-type {\n",
       "        vertical-align: middle;\n",
       "    }\n",
       "\n",
       "    .dataframe tbody tr th {\n",
       "        vertical-align: top;\n",
       "    }\n",
       "\n",
       "    .dataframe thead th {\n",
       "        text-align: right;\n",
       "    }\n",
       "</style>\n",
       "<table border=\"1\" class=\"dataframe\">\n",
       "  <thead>\n",
       "    <tr style=\"text-align: right;\">\n",
       "      <th></th>\n",
       "      <th>title</th>\n",
       "      <th>text</th>\n",
       "      <th>subject</th>\n",
       "      <th>date</th>\n",
       "      <th>label</th>\n",
       "    </tr>\n",
       "  </thead>\n",
       "  <tbody>\n",
       "    <tr>\n",
       "      <th>0</th>\n",
       "      <td>Donald Trump Sends Out Embarrassing New Year’...</td>\n",
       "      <td>Donald Trump just couldn t wish all Americans ...</td>\n",
       "      <td>News</td>\n",
       "      <td>December 31, 2017</td>\n",
       "      <td>1</td>\n",
       "    </tr>\n",
       "    <tr>\n",
       "      <th>1</th>\n",
       "      <td>Drunk Bragging Trump Staffer Started Russian ...</td>\n",
       "      <td>House Intelligence Committee Chairman Devin Nu...</td>\n",
       "      <td>News</td>\n",
       "      <td>December 31, 2017</td>\n",
       "      <td>1</td>\n",
       "    </tr>\n",
       "    <tr>\n",
       "      <th>2</th>\n",
       "      <td>Sheriff David Clarke Becomes An Internet Joke...</td>\n",
       "      <td>On Friday, it was revealed that former Milwauk...</td>\n",
       "      <td>News</td>\n",
       "      <td>December 30, 2017</td>\n",
       "      <td>1</td>\n",
       "    </tr>\n",
       "    <tr>\n",
       "      <th>3</th>\n",
       "      <td>Trump Is So Obsessed He Even Has Obama’s Name...</td>\n",
       "      <td>On Christmas day, Donald Trump announced that ...</td>\n",
       "      <td>News</td>\n",
       "      <td>December 29, 2017</td>\n",
       "      <td>1</td>\n",
       "    </tr>\n",
       "    <tr>\n",
       "      <th>4</th>\n",
       "      <td>Pope Francis Just Called Out Donald Trump Dur...</td>\n",
       "      <td>Pope Francis used his annual Christmas Day mes...</td>\n",
       "      <td>News</td>\n",
       "      <td>December 25, 2017</td>\n",
       "      <td>1</td>\n",
       "    </tr>\n",
       "  </tbody>\n",
       "</table>\n",
       "</div>"
      ],
      "text/plain": [
       "                                               title  \\\n",
       "0   Donald Trump Sends Out Embarrassing New Year’...   \n",
       "1   Drunk Bragging Trump Staffer Started Russian ...   \n",
       "2   Sheriff David Clarke Becomes An Internet Joke...   \n",
       "3   Trump Is So Obsessed He Even Has Obama’s Name...   \n",
       "4   Pope Francis Just Called Out Donald Trump Dur...   \n",
       "\n",
       "                                                text subject  \\\n",
       "0  Donald Trump just couldn t wish all Americans ...    News   \n",
       "1  House Intelligence Committee Chairman Devin Nu...    News   \n",
       "2  On Friday, it was revealed that former Milwauk...    News   \n",
       "3  On Christmas day, Donald Trump announced that ...    News   \n",
       "4  Pope Francis used his annual Christmas Day mes...    News   \n",
       "\n",
       "                date  label  \n",
       "0  December 31, 2017      1  \n",
       "1  December 31, 2017      1  \n",
       "2  December 30, 2017      1  \n",
       "3  December 29, 2017      1  \n",
       "4  December 25, 2017      1  "
      ]
     },
     "execution_count": 24,
     "metadata": {},
     "output_type": "execute_result"
    }
   ],
   "source": [
    "fake_data['label'] = 1\n",
    "true_data['label']=0\n",
    "print(true_data.head())\n",
    "fake_data.head()"
   ]
  },
  {
   "cell_type": "code",
   "execution_count": 25,
   "id": "b723d4cb",
   "metadata": {
    "execution": {
     "iopub.execute_input": "2023-10-04T11:16:43.815295Z",
     "iopub.status.busy": "2023-10-04T11:16:43.814935Z",
     "iopub.status.idle": "2023-10-04T11:16:43.850893Z",
     "shell.execute_reply": "2023-10-04T11:16:43.850190Z"
    },
    "papermill": {
     "duration": 0.048071,
     "end_time": "2023-10-04T11:16:43.852880",
     "exception": false,
     "start_time": "2023-10-04T11:16:43.804809",
     "status": "completed"
    },
    "tags": []
   },
   "outputs": [
    {
     "name": "stdout",
     "output_type": "stream",
     "text": [
      "Index(['title', 'text', 'subject', 'date', 'label'], dtype='object')\n"
     ]
    },
    {
     "data": {
      "text/html": [
       "<div>\n",
       "<style scoped>\n",
       "    .dataframe tbody tr th:only-of-type {\n",
       "        vertical-align: middle;\n",
       "    }\n",
       "\n",
       "    .dataframe tbody tr th {\n",
       "        vertical-align: top;\n",
       "    }\n",
       "\n",
       "    .dataframe thead th {\n",
       "        text-align: right;\n",
       "    }\n",
       "</style>\n",
       "<table border=\"1\" class=\"dataframe\">\n",
       "  <thead>\n",
       "    <tr style=\"text-align: right;\">\n",
       "      <th></th>\n",
       "      <th>title</th>\n",
       "      <th>text</th>\n",
       "      <th>subject</th>\n",
       "      <th>date</th>\n",
       "      <th>label</th>\n",
       "    </tr>\n",
       "  </thead>\n",
       "  <tbody>\n",
       "    <tr>\n",
       "      <th>16365</th>\n",
       "      <td>Catalan government business head resigns over ...</td>\n",
       "      <td>MADRID (Reuters) - The Catalan government s bu...</td>\n",
       "      <td>worldnews</td>\n",
       "      <td>October 26, 2017</td>\n",
       "      <td>0</td>\n",
       "    </tr>\n",
       "    <tr>\n",
       "      <th>558</th>\n",
       "      <td>House ethics panel investigating allegations a...</td>\n",
       "      <td>WASHINGTON (Reuters) - The House of Representa...</td>\n",
       "      <td>politicsNews</td>\n",
       "      <td>November 21, 2017</td>\n",
       "      <td>0</td>\n",
       "    </tr>\n",
       "    <tr>\n",
       "      <th>13544</th>\n",
       "      <td>SANCTIMONIOUS, OPEN-BORDERS PAUL RYAN Is Tanki...</td>\n",
       "      <td>Will Republican voters take down sanctimonious...</td>\n",
       "      <td>politics</td>\n",
       "      <td>Jul 10, 2016</td>\n",
       "      <td>1</td>\n",
       "    </tr>\n",
       "    <tr>\n",
       "      <th>14700</th>\n",
       "      <td>German Greens want last nuclear weapons withdr...</td>\n",
       "      <td>BERLIN (Reuters) - Greens want the next coalit...</td>\n",
       "      <td>worldnews</td>\n",
       "      <td>November 15, 2017</td>\n",
       "      <td>0</td>\n",
       "    </tr>\n",
       "    <tr>\n",
       "      <th>2873</th>\n",
       "      <td>Restaurant Owner Calls Black Customer ‘N*****...</td>\n",
       "      <td>A Pennsylvania restaurant owner is under fire ...</td>\n",
       "      <td>News</td>\n",
       "      <td>January 24, 2017</td>\n",
       "      <td>1</td>\n",
       "    </tr>\n",
       "  </tbody>\n",
       "</table>\n",
       "</div>"
      ],
      "text/plain": [
       "                                                   title  \\\n",
       "16365  Catalan government business head resigns over ...   \n",
       "558    House ethics panel investigating allegations a...   \n",
       "13544  SANCTIMONIOUS, OPEN-BORDERS PAUL RYAN Is Tanki...   \n",
       "14700  German Greens want last nuclear weapons withdr...   \n",
       "2873    Restaurant Owner Calls Black Customer ‘N*****...   \n",
       "\n",
       "                                                    text       subject  \\\n",
       "16365  MADRID (Reuters) - The Catalan government s bu...     worldnews   \n",
       "558    WASHINGTON (Reuters) - The House of Representa...  politicsNews   \n",
       "13544  Will Republican voters take down sanctimonious...      politics   \n",
       "14700  BERLIN (Reuters) - Greens want the next coalit...     worldnews   \n",
       "2873   A Pennsylvania restaurant owner is under fire ...          News   \n",
       "\n",
       "                     date  label  \n",
       "16365   October 26, 2017       0  \n",
       "558    November 21, 2017       0  \n",
       "13544        Jul 10, 2016      1  \n",
       "14700  November 15, 2017       0  \n",
       "2873     January 24, 2017      1  "
      ]
     },
     "execution_count": 25,
     "metadata": {},
     "output_type": "execute_result"
    }
   ],
   "source": [
    "\n",
    "all_data=pd.concat([fake_data, true_data])\n",
    "random_permutation = np.random.permutation(len(all_data))\n",
    "all_data= all_data.iloc[random_permutation]\n",
    "print(all_data.columns)\n",
    "all_data.head()"
   ]
  },
  {
   "cell_type": "code",
   "execution_count": 26,
   "id": "4d49f523",
   "metadata": {
    "execution": {
     "iopub.execute_input": "2023-10-04T11:16:43.874064Z",
     "iopub.status.busy": "2023-10-04T11:16:43.873717Z",
     "iopub.status.idle": "2023-10-04T11:16:43.892597Z",
     "shell.execute_reply": "2023-10-04T11:16:43.891510Z"
    },
    "papermill": {
     "duration": 0.032067,
     "end_time": "2023-10-04T11:16:43.894640",
     "exception": false,
     "start_time": "2023-10-04T11:16:43.862573",
     "status": "completed"
    },
    "tags": []
   },
   "outputs": [
    {
     "data": {
      "text/html": [
       "<div>\n",
       "<style scoped>\n",
       "    .dataframe tbody tr th:only-of-type {\n",
       "        vertical-align: middle;\n",
       "    }\n",
       "\n",
       "    .dataframe tbody tr th {\n",
       "        vertical-align: top;\n",
       "    }\n",
       "\n",
       "    .dataframe thead th {\n",
       "        text-align: right;\n",
       "    }\n",
       "</style>\n",
       "<table border=\"1\" class=\"dataframe\">\n",
       "  <thead>\n",
       "    <tr style=\"text-align: right;\">\n",
       "      <th></th>\n",
       "      <th>title</th>\n",
       "      <th>text</th>\n",
       "      <th>subject</th>\n",
       "      <th>label</th>\n",
       "    </tr>\n",
       "  </thead>\n",
       "  <tbody>\n",
       "    <tr>\n",
       "      <th>16365</th>\n",
       "      <td>Catalan government business head resigns over ...</td>\n",
       "      <td>MADRID (Reuters) - The Catalan government s bu...</td>\n",
       "      <td>worldnews</td>\n",
       "      <td>0</td>\n",
       "    </tr>\n",
       "    <tr>\n",
       "      <th>558</th>\n",
       "      <td>House ethics panel investigating allegations a...</td>\n",
       "      <td>WASHINGTON (Reuters) - The House of Representa...</td>\n",
       "      <td>politicsNews</td>\n",
       "      <td>0</td>\n",
       "    </tr>\n",
       "    <tr>\n",
       "      <th>13544</th>\n",
       "      <td>SANCTIMONIOUS, OPEN-BORDERS PAUL RYAN Is Tanki...</td>\n",
       "      <td>Will Republican voters take down sanctimonious...</td>\n",
       "      <td>politics</td>\n",
       "      <td>1</td>\n",
       "    </tr>\n",
       "    <tr>\n",
       "      <th>14700</th>\n",
       "      <td>German Greens want last nuclear weapons withdr...</td>\n",
       "      <td>BERLIN (Reuters) - Greens want the next coalit...</td>\n",
       "      <td>worldnews</td>\n",
       "      <td>0</td>\n",
       "    </tr>\n",
       "    <tr>\n",
       "      <th>2873</th>\n",
       "      <td>Restaurant Owner Calls Black Customer ‘N*****...</td>\n",
       "      <td>A Pennsylvania restaurant owner is under fire ...</td>\n",
       "      <td>News</td>\n",
       "      <td>1</td>\n",
       "    </tr>\n",
       "  </tbody>\n",
       "</table>\n",
       "</div>"
      ],
      "text/plain": [
       "                                                   title  \\\n",
       "16365  Catalan government business head resigns over ...   \n",
       "558    House ethics panel investigating allegations a...   \n",
       "13544  SANCTIMONIOUS, OPEN-BORDERS PAUL RYAN Is Tanki...   \n",
       "14700  German Greens want last nuclear weapons withdr...   \n",
       "2873    Restaurant Owner Calls Black Customer ‘N*****...   \n",
       "\n",
       "                                                    text       subject  label  \n",
       "16365  MADRID (Reuters) - The Catalan government s bu...     worldnews      0  \n",
       "558    WASHINGTON (Reuters) - The House of Representa...  politicsNews      0  \n",
       "13544  Will Republican voters take down sanctimonious...      politics      1  \n",
       "14700  BERLIN (Reuters) - Greens want the next coalit...     worldnews      0  \n",
       "2873   A Pennsylvania restaurant owner is under fire ...          News      1  "
      ]
     },
     "execution_count": 26,
     "metadata": {},
     "output_type": "execute_result"
    }
   ],
   "source": [
    "filterd_data=all_data.loc[:, ['title', 'text', \"subject\", 'label']]\n",
    "filterd_data.head()"
   ]
  },
  {
   "cell_type": "code",
   "execution_count": 27,
   "id": "d849dc1a",
   "metadata": {
    "execution": {
     "iopub.execute_input": "2023-10-04T11:16:43.915546Z",
     "iopub.status.busy": "2023-10-04T11:16:43.914777Z",
     "iopub.status.idle": "2023-10-04T11:16:43.938902Z",
     "shell.execute_reply": "2023-10-04T11:16:43.937672Z"
    },
    "papermill": {
     "duration": 0.037174,
     "end_time": "2023-10-04T11:16:43.941394",
     "exception": false,
     "start_time": "2023-10-04T11:16:43.904220",
     "status": "completed"
    },
    "tags": []
   },
   "outputs": [
    {
     "data": {
      "text/plain": [
       "title      0\n",
       "text       0\n",
       "subject    0\n",
       "label      0\n",
       "dtype: int64"
      ]
     },
     "execution_count": 27,
     "metadata": {},
     "output_type": "execute_result"
    }
   ],
   "source": [
    "filterd_data.isnull().sum()"
   ]
  },
  {
   "cell_type": "code",
   "execution_count": 28,
   "id": "c8450f5f",
   "metadata": {
    "execution": {
     "iopub.execute_input": "2023-10-04T11:16:43.963001Z",
     "iopub.status.busy": "2023-10-04T11:16:43.962149Z",
     "iopub.status.idle": "2023-10-04T11:16:44.429235Z",
     "shell.execute_reply": "2023-10-04T11:16:44.428188Z"
    },
    "papermill": {
     "duration": 0.480315,
     "end_time": "2023-10-04T11:16:44.431523",
     "exception": false,
     "start_time": "2023-10-04T11:16:43.951208",
     "status": "completed"
    },
    "tags": []
   },
   "outputs": [
    {
     "data": {
      "text/html": [
       "<div>\n",
       "<style scoped>\n",
       "    .dataframe tbody tr th:only-of-type {\n",
       "        vertical-align: middle;\n",
       "    }\n",
       "\n",
       "    .dataframe tbody tr th {\n",
       "        vertical-align: top;\n",
       "    }\n",
       "\n",
       "    .dataframe thead th {\n",
       "        text-align: right;\n",
       "    }\n",
       "</style>\n",
       "<table border=\"1\" class=\"dataframe\">\n",
       "  <thead>\n",
       "    <tr style=\"text-align: right;\">\n",
       "      <th></th>\n",
       "      <th>title</th>\n",
       "      <th>text</th>\n",
       "      <th>subject</th>\n",
       "      <th>label</th>\n",
       "      <th>training_feature</th>\n",
       "    </tr>\n",
       "  </thead>\n",
       "  <tbody>\n",
       "    <tr>\n",
       "      <th>16365</th>\n",
       "      <td>Catalan government business head resigns over ...</td>\n",
       "      <td>MADRID (Reuters) - The Catalan government s bu...</td>\n",
       "      <td>worldnews</td>\n",
       "      <td>0</td>\n",
       "      <td>Catalan government business head resigns over ...</td>\n",
       "    </tr>\n",
       "    <tr>\n",
       "      <th>558</th>\n",
       "      <td>House ethics panel investigating allegations a...</td>\n",
       "      <td>WASHINGTON (Reuters) - The House of Representa...</td>\n",
       "      <td>politicsNews</td>\n",
       "      <td>0</td>\n",
       "      <td>House ethics panel investigating allegations a...</td>\n",
       "    </tr>\n",
       "    <tr>\n",
       "      <th>13544</th>\n",
       "      <td>SANCTIMONIOUS, OPEN-BORDERS PAUL RYAN Is Tanki...</td>\n",
       "      <td>Will Republican voters take down sanctimonious...</td>\n",
       "      <td>politics</td>\n",
       "      <td>1</td>\n",
       "      <td>SANCTIMONIOUS, OPEN-BORDERS PAUL RYAN Is Tanki...</td>\n",
       "    </tr>\n",
       "    <tr>\n",
       "      <th>14700</th>\n",
       "      <td>German Greens want last nuclear weapons withdr...</td>\n",
       "      <td>BERLIN (Reuters) - Greens want the next coalit...</td>\n",
       "      <td>worldnews</td>\n",
       "      <td>0</td>\n",
       "      <td>German Greens want last nuclear weapons withdr...</td>\n",
       "    </tr>\n",
       "    <tr>\n",
       "      <th>2873</th>\n",
       "      <td>Restaurant Owner Calls Black Customer ‘N*****...</td>\n",
       "      <td>A Pennsylvania restaurant owner is under fire ...</td>\n",
       "      <td>News</td>\n",
       "      <td>1</td>\n",
       "      <td>Restaurant Owner Calls Black Customer ‘N*****...</td>\n",
       "    </tr>\n",
       "  </tbody>\n",
       "</table>\n",
       "</div>"
      ],
      "text/plain": [
       "                                                   title  \\\n",
       "16365  Catalan government business head resigns over ...   \n",
       "558    House ethics panel investigating allegations a...   \n",
       "13544  SANCTIMONIOUS, OPEN-BORDERS PAUL RYAN Is Tanki...   \n",
       "14700  German Greens want last nuclear weapons withdr...   \n",
       "2873    Restaurant Owner Calls Black Customer ‘N*****...   \n",
       "\n",
       "                                                    text       subject  label  \\\n",
       "16365  MADRID (Reuters) - The Catalan government s bu...     worldnews      0   \n",
       "558    WASHINGTON (Reuters) - The House of Representa...  politicsNews      0   \n",
       "13544  Will Republican voters take down sanctimonious...      politics      1   \n",
       "14700  BERLIN (Reuters) - Greens want the next coalit...     worldnews      0   \n",
       "2873   A Pennsylvania restaurant owner is under fire ...          News      1   \n",
       "\n",
       "                                        training_feature  \n",
       "16365  Catalan government business head resigns over ...  \n",
       "558    House ethics panel investigating allegations a...  \n",
       "13544  SANCTIMONIOUS, OPEN-BORDERS PAUL RYAN Is Tanki...  \n",
       "14700  German Greens want last nuclear weapons withdr...  \n",
       "2873    Restaurant Owner Calls Black Customer ‘N*****...  "
      ]
     },
     "execution_count": 28,
     "metadata": {},
     "output_type": "execute_result"
    }
   ],
   "source": [
    "filterd_data['training_feature']=filterd_data['title']+' '+filterd_data['text']+' '+filterd_data['subject']\n",
    "filterd_data.head()"
   ]
  },
  {
   "cell_type": "code",
   "execution_count": 29,
   "id": "ca3db61b",
   "metadata": {
    "execution": {
     "iopub.execute_input": "2023-10-04T11:16:44.452615Z",
     "iopub.status.busy": "2023-10-04T11:16:44.452226Z",
     "iopub.status.idle": "2023-10-04T11:16:44.457019Z",
     "shell.execute_reply": "2023-10-04T11:16:44.455955Z"
    },
    "papermill": {
     "duration": 0.017685,
     "end_time": "2023-10-04T11:16:44.459040",
     "exception": false,
     "start_time": "2023-10-04T11:16:44.441355",
     "status": "completed"
    },
    "tags": []
   },
   "outputs": [],
   "source": [
    "X= filterd_data['training_feature'].values\n",
    "y = filterd_data['label']\n"
   ]
  },
  {
   "cell_type": "code",
   "execution_count": 30,
   "id": "ad20666a",
   "metadata": {
    "execution": {
     "iopub.execute_input": "2023-10-04T11:16:44.480123Z",
     "iopub.status.busy": "2023-10-04T11:16:44.479777Z",
     "iopub.status.idle": "2023-10-04T11:16:44.485062Z",
     "shell.execute_reply": "2023-10-04T11:16:44.483845Z"
    },
    "papermill": {
     "duration": 0.018348,
     "end_time": "2023-10-04T11:16:44.487252",
     "exception": false,
     "start_time": "2023-10-04T11:16:44.468904",
     "status": "completed"
    },
    "tags": []
   },
   "outputs": [],
   "source": [
    "l_X=filterd_data['training_feature'].values[0:1000]\n",
    "l_Y= filterd_data['label'].values[0:1000]"
   ]
  },
  {
   "cell_type": "code",
   "execution_count": 31,
   "id": "9703b702",
   "metadata": {
    "execution": {
     "iopub.execute_input": "2023-10-04T11:16:44.565706Z",
     "iopub.status.busy": "2023-10-04T11:16:44.565358Z",
     "iopub.status.idle": "2023-10-04T11:16:44.571578Z",
     "shell.execute_reply": "2023-10-04T11:16:44.570763Z"
    },
    "papermill": {
     "duration": 0.019332,
     "end_time": "2023-10-04T11:16:44.573756",
     "exception": false,
     "start_time": "2023-10-04T11:16:44.554424",
     "status": "completed"
    },
    "tags": []
   },
   "outputs": [
    {
     "name": "stdout",
     "output_type": "stream",
     "text": [
      "(1000,)\n",
      "(1000,)\n"
     ]
    },
    {
     "data": {
      "text/plain": [
       "numpy.ndarray"
      ]
     },
     "execution_count": 31,
     "metadata": {},
     "output_type": "execute_result"
    }
   ],
   "source": [
    "print(l_X.shape)\n",
    "print(l_Y.shape)\n",
    "type (l_X)"
   ]
  },
  {
   "cell_type": "code",
   "execution_count": 32,
   "id": "e3847e45",
   "metadata": {
    "execution": {
     "iopub.execute_input": "2023-10-04T11:16:44.595676Z",
     "iopub.status.busy": "2023-10-04T11:16:44.595355Z",
     "iopub.status.idle": "2023-10-04T11:16:44.599505Z",
     "shell.execute_reply": "2023-10-04T11:16:44.598710Z"
    },
    "papermill": {
     "duration": 0.018119,
     "end_time": "2023-10-04T11:16:44.601812",
     "exception": false,
     "start_time": "2023-10-04T11:16:44.583693",
     "status": "completed"
    },
    "tags": []
   },
   "outputs": [
    {
     "name": "stdout",
     "output_type": "stream",
     "text": [
      "['Catalan government business head resigns over independence strategy MADRID (Reuters) - The Catalan government s business head resigned on Thursday, a government source said, after regional president Carles Puigdemont ruled out elections and left the possibility of a unilateral declaration of independence from Spain. Santi Vila had said he was opposed to such a declaration and La Vanguardia newspaper reported he favored regional elections.  worldnews']\n"
     ]
    }
   ],
   "source": [
    "print(X[0:1])"
   ]
  },
  {
   "cell_type": "code",
   "execution_count": 33,
   "id": "b2b98971",
   "metadata": {
    "execution": {
     "iopub.execute_input": "2023-10-04T11:16:44.625251Z",
     "iopub.status.busy": "2023-10-04T11:16:44.624693Z",
     "iopub.status.idle": "2023-10-04T11:16:44.628015Z",
     "shell.execute_reply": "2023-10-04T11:16:44.627351Z"
    },
    "papermill": {
     "duration": 0.017241,
     "end_time": "2023-10-04T11:16:44.629757",
     "exception": false,
     "start_time": "2023-10-04T11:16:44.612516",
     "status": "completed"
    },
    "tags": []
   },
   "outputs": [],
   "source": [
    "# from sklearn import preprocessing\n",
    "\n",
    "# print(X.shape)\n",
    "# print(type(X))\n",
    "# # print(X[0:1])\n",
    "# X=X.reshape((1,-1))\n",
    "# X = preprocessing.normalize(X)\n",
    "# np.random.shuffle(X)\n",
    "# print(X.shape)\n",
    "# print(type(X))\n",
    "\n",
    "# X = preprocessing.normalize([X.reshape(1,-1)])\n"
   ]
  },
  {
   "cell_type": "code",
   "execution_count": 34,
   "id": "ffada516",
   "metadata": {
    "execution": {
     "iopub.execute_input": "2023-10-04T11:16:44.651768Z",
     "iopub.status.busy": "2023-10-04T11:16:44.651230Z",
     "iopub.status.idle": "2023-10-04T11:16:45.970639Z",
     "shell.execute_reply": "2023-10-04T11:16:45.969598Z"
    },
    "papermill": {
     "duration": 1.333215,
     "end_time": "2023-10-04T11:16:45.973131",
     "exception": false,
     "start_time": "2023-10-04T11:16:44.639916",
     "status": "completed"
    },
    "tags": []
   },
   "outputs": [
    {
     "ename": "ValueError",
     "evalue": "bad marshal data (unknown type code)",
     "output_type": "error",
     "traceback": [
      "\u001b[1;31m---------------------------------------------------------------------------\u001b[0m",
      "\u001b[1;31mValueError\u001b[0m                                Traceback (most recent call last)",
      "Cell \u001b[1;32mIn[34], line 1\u001b[0m\n\u001b[1;32m----> 1\u001b[0m \u001b[38;5;28;01mfrom\u001b[39;00m \u001b[38;5;21;01msklearn\u001b[39;00m\u001b[38;5;21;01m.\u001b[39;00m\u001b[38;5;21;01mfeature_extraction\u001b[39;00m\u001b[38;5;21;01m.\u001b[39;00m\u001b[38;5;21;01mtext\u001b[39;00m \u001b[38;5;28;01mimport\u001b[39;00m TfidfVectorizer\n\u001b[0;32m      2\u001b[0m \u001b[38;5;28;01mfrom\u001b[39;00m \u001b[38;5;21;01msklearn\u001b[39;00m\u001b[38;5;21;01m.\u001b[39;00m\u001b[38;5;21;01mmodel_selection\u001b[39;00m \u001b[38;5;28;01mimport\u001b[39;00m train_test_split\n\u001b[0;32m      3\u001b[0m \u001b[38;5;28;01mfrom\u001b[39;00m \u001b[38;5;21;01msklearn\u001b[39;00m\u001b[38;5;21;01m.\u001b[39;00m\u001b[38;5;21;01mlinear_model\u001b[39;00m \u001b[38;5;28;01mimport\u001b[39;00m LogisticRegression\n",
      "File \u001b[1;32mc:\\Program Files\\Python39\\lib\\site-packages\\sklearn\\__init__.py:82\u001b[0m\n\u001b[0;32m     80\u001b[0m \u001b[38;5;28;01mfrom\u001b[39;00m \u001b[38;5;21;01m.\u001b[39;00m \u001b[38;5;28;01mimport\u001b[39;00m _distributor_init  \u001b[38;5;66;03m# noqa: F401\u001b[39;00m\n\u001b[0;32m     81\u001b[0m \u001b[38;5;28;01mfrom\u001b[39;00m \u001b[38;5;21;01m.\u001b[39;00m \u001b[38;5;28;01mimport\u001b[39;00m __check_build  \u001b[38;5;66;03m# noqa: F401\u001b[39;00m\n\u001b[1;32m---> 82\u001b[0m \u001b[38;5;28;01mfrom\u001b[39;00m \u001b[38;5;21;01m.\u001b[39;00m\u001b[38;5;21;01mbase\u001b[39;00m \u001b[38;5;28;01mimport\u001b[39;00m clone\n\u001b[0;32m     83\u001b[0m \u001b[38;5;28;01mfrom\u001b[39;00m \u001b[38;5;21;01m.\u001b[39;00m\u001b[38;5;21;01mutils\u001b[39;00m\u001b[38;5;21;01m.\u001b[39;00m\u001b[38;5;21;01m_show_versions\u001b[39;00m \u001b[38;5;28;01mimport\u001b[39;00m show_versions\n\u001b[0;32m     85\u001b[0m __all__ \u001b[38;5;241m=\u001b[39m [\n\u001b[0;32m     86\u001b[0m     \u001b[38;5;124m\"\u001b[39m\u001b[38;5;124mcalibration\u001b[39m\u001b[38;5;124m\"\u001b[39m,\n\u001b[0;32m     87\u001b[0m     \u001b[38;5;124m\"\u001b[39m\u001b[38;5;124mcluster\u001b[39m\u001b[38;5;124m\"\u001b[39m,\n\u001b[1;32m   (...)\u001b[0m\n\u001b[0;32m    128\u001b[0m     \u001b[38;5;124m\"\u001b[39m\u001b[38;5;124mshow_versions\u001b[39m\u001b[38;5;124m\"\u001b[39m,\n\u001b[0;32m    129\u001b[0m ]\n",
      "File \u001b[1;32mc:\\Program Files\\Python39\\lib\\site-packages\\sklearn\\base.py:17\u001b[0m\n\u001b[0;32m     15\u001b[0m \u001b[38;5;28;01mfrom\u001b[39;00m \u001b[38;5;21;01m.\u001b[39;00m \u001b[38;5;28;01mimport\u001b[39;00m __version__\n\u001b[0;32m     16\u001b[0m \u001b[38;5;28;01mfrom\u001b[39;00m \u001b[38;5;21;01m.\u001b[39;00m\u001b[38;5;21;01m_config\u001b[39;00m \u001b[38;5;28;01mimport\u001b[39;00m get_config\n\u001b[1;32m---> 17\u001b[0m \u001b[38;5;28;01mfrom\u001b[39;00m \u001b[38;5;21;01m.\u001b[39;00m\u001b[38;5;21;01mutils\u001b[39;00m \u001b[38;5;28;01mimport\u001b[39;00m _IS_32BIT\n\u001b[0;32m     18\u001b[0m \u001b[38;5;28;01mfrom\u001b[39;00m \u001b[38;5;21;01m.\u001b[39;00m\u001b[38;5;21;01mutils\u001b[39;00m\u001b[38;5;21;01m.\u001b[39;00m\u001b[38;5;21;01m_tags\u001b[39;00m \u001b[38;5;28;01mimport\u001b[39;00m (\n\u001b[0;32m     19\u001b[0m     _DEFAULT_TAGS,\n\u001b[0;32m     20\u001b[0m     _safe_tags,\n\u001b[0;32m     21\u001b[0m )\n\u001b[0;32m     22\u001b[0m \u001b[38;5;28;01mfrom\u001b[39;00m \u001b[38;5;21;01m.\u001b[39;00m\u001b[38;5;21;01mutils\u001b[39;00m\u001b[38;5;21;01m.\u001b[39;00m\u001b[38;5;21;01mvalidation\u001b[39;00m \u001b[38;5;28;01mimport\u001b[39;00m check_X_y\n",
      "File \u001b[1;32mc:\\Program Files\\Python39\\lib\\site-packages\\sklearn\\utils\\__init__.py:28\u001b[0m\n\u001b[0;32m     26\u001b[0m \u001b[38;5;28;01mfrom\u001b[39;00m \u001b[38;5;21;01m.\u001b[39;00m\u001b[38;5;21;01m.\u001b[39;00m\u001b[38;5;21;01mexceptions\u001b[39;00m \u001b[38;5;28;01mimport\u001b[39;00m DataConversionWarning\n\u001b[0;32m     27\u001b[0m \u001b[38;5;28;01mfrom\u001b[39;00m \u001b[38;5;21;01m.\u001b[39;00m\u001b[38;5;21;01mdeprecation\u001b[39;00m \u001b[38;5;28;01mimport\u001b[39;00m deprecated\n\u001b[1;32m---> 28\u001b[0m \u001b[38;5;28;01mfrom\u001b[39;00m \u001b[38;5;21;01m.\u001b[39;00m\u001b[38;5;21;01mfixes\u001b[39;00m \u001b[38;5;28;01mimport\u001b[39;00m np_version, parse_version\n\u001b[0;32m     29\u001b[0m \u001b[38;5;28;01mfrom\u001b[39;00m \u001b[38;5;21;01m.\u001b[39;00m\u001b[38;5;21;01m_estimator_html_repr\u001b[39;00m \u001b[38;5;28;01mimport\u001b[39;00m estimator_html_repr\n\u001b[0;32m     30\u001b[0m \u001b[38;5;28;01mfrom\u001b[39;00m \u001b[38;5;21;01m.\u001b[39;00m\u001b[38;5;21;01mvalidation\u001b[39;00m \u001b[38;5;28;01mimport\u001b[39;00m (\n\u001b[0;32m     31\u001b[0m     as_float_array,\n\u001b[0;32m     32\u001b[0m     assert_all_finite,\n\u001b[1;32m   (...)\u001b[0m\n\u001b[0;32m     40\u001b[0m     check_scalar,\n\u001b[0;32m     41\u001b[0m )\n",
      "File \u001b[1;32mc:\\Program Files\\Python39\\lib\\site-packages\\sklearn\\utils\\fixes.py:19\u001b[0m\n\u001b[0;32m     17\u001b[0m \u001b[38;5;28;01mimport\u001b[39;00m \u001b[38;5;21;01mscipy\u001b[39;00m\u001b[38;5;21;01m.\u001b[39;00m\u001b[38;5;21;01msparse\u001b[39;00m \u001b[38;5;28;01mas\u001b[39;00m \u001b[38;5;21;01msp\u001b[39;00m\n\u001b[0;32m     18\u001b[0m \u001b[38;5;28;01mimport\u001b[39;00m \u001b[38;5;21;01mscipy\u001b[39;00m\n\u001b[1;32m---> 19\u001b[0m \u001b[38;5;28;01mimport\u001b[39;00m \u001b[38;5;21;01mscipy\u001b[39;00m\u001b[38;5;21;01m.\u001b[39;00m\u001b[38;5;21;01mstats\u001b[39;00m\n\u001b[0;32m     20\u001b[0m \u001b[38;5;28;01mfrom\u001b[39;00m \u001b[38;5;21;01mscipy\u001b[39;00m\u001b[38;5;21;01m.\u001b[39;00m\u001b[38;5;21;01msparse\u001b[39;00m\u001b[38;5;21;01m.\u001b[39;00m\u001b[38;5;21;01mlinalg\u001b[39;00m \u001b[38;5;28;01mimport\u001b[39;00m lsqr \u001b[38;5;28;01mas\u001b[39;00m sparse_lsqr  \u001b[38;5;66;03m# noqa\u001b[39;00m\n\u001b[0;32m     21\u001b[0m \u001b[38;5;28;01mfrom\u001b[39;00m \u001b[38;5;21;01m.\u001b[39;00m\u001b[38;5;21;01m.\u001b[39;00m\u001b[38;5;21;01m_config\u001b[39;00m \u001b[38;5;28;01mimport\u001b[39;00m config_context, get_config\n",
      "File \u001b[1;32mc:\\Program Files\\Python39\\lib\\site-packages\\scipy\\stats\\__init__.py:441\u001b[0m\n\u001b[0;32m      1\u001b[0m \u001b[38;5;124;03m\"\"\"\u001b[39;00m\n\u001b[0;32m      2\u001b[0m \u001b[38;5;124;03m.. _statsrefmanual:\u001b[39;00m\n\u001b[0;32m      3\u001b[0m \n\u001b[1;32m   (...)\u001b[0m\n\u001b[0;32m    438\u001b[0m \n\u001b[0;32m    439\u001b[0m \u001b[38;5;124;03m\"\"\"\u001b[39;00m\n\u001b[1;32m--> 441\u001b[0m \u001b[38;5;28;01mfrom\u001b[39;00m \u001b[38;5;21;01m.\u001b[39;00m\u001b[38;5;21;01mstats\u001b[39;00m \u001b[38;5;28;01mimport\u001b[39;00m \u001b[38;5;241m*\u001b[39m\n\u001b[0;32m    442\u001b[0m \u001b[38;5;28;01mfrom\u001b[39;00m \u001b[38;5;21;01m.\u001b[39;00m\u001b[38;5;21;01mdistributions\u001b[39;00m \u001b[38;5;28;01mimport\u001b[39;00m \u001b[38;5;241m*\u001b[39m\n\u001b[0;32m    443\u001b[0m \u001b[38;5;28;01mfrom\u001b[39;00m \u001b[38;5;21;01m.\u001b[39;00m\u001b[38;5;21;01mmorestats\u001b[39;00m \u001b[38;5;28;01mimport\u001b[39;00m \u001b[38;5;241m*\u001b[39m\n",
      "File \u001b[1;32mc:\\Program Files\\Python39\\lib\\site-packages\\scipy\\stats\\stats.py:37\u001b[0m\n\u001b[0;32m     34\u001b[0m \u001b[38;5;28;01mimport\u001b[39;00m \u001b[38;5;21;01mnumpy\u001b[39;00m \u001b[38;5;28;01mas\u001b[39;00m \u001b[38;5;21;01mnp\u001b[39;00m\n\u001b[0;32m     35\u001b[0m \u001b[38;5;28;01mfrom\u001b[39;00m \u001b[38;5;21;01mnumpy\u001b[39;00m \u001b[38;5;28;01mimport\u001b[39;00m array, asarray, ma\n\u001b[1;32m---> 37\u001b[0m \u001b[38;5;28;01mfrom\u001b[39;00m \u001b[38;5;21;01mscipy\u001b[39;00m\u001b[38;5;21;01m.\u001b[39;00m\u001b[38;5;21;01mspatial\u001b[39;00m\u001b[38;5;21;01m.\u001b[39;00m\u001b[38;5;21;01mdistance\u001b[39;00m \u001b[38;5;28;01mimport\u001b[39;00m cdist\n\u001b[0;32m     38\u001b[0m \u001b[38;5;28;01mfrom\u001b[39;00m \u001b[38;5;21;01mscipy\u001b[39;00m\u001b[38;5;21;01m.\u001b[39;00m\u001b[38;5;21;01mndimage\u001b[39;00m \u001b[38;5;28;01mimport\u001b[39;00m measurements\n\u001b[0;32m     39\u001b[0m \u001b[38;5;28;01mfrom\u001b[39;00m \u001b[38;5;21;01mscipy\u001b[39;00m\u001b[38;5;21;01m.\u001b[39;00m\u001b[38;5;21;01m_lib\u001b[39;00m\u001b[38;5;21;01m.\u001b[39;00m\u001b[38;5;21;01m_util\u001b[39;00m \u001b[38;5;28;01mimport\u001b[39;00m (check_random_state, MapWrapper,\n\u001b[0;32m     40\u001b[0m                               rng_integers, float_factorial)\n",
      "File \u001b[1;32mc:\\Program Files\\Python39\\lib\\site-packages\\scipy\\spatial\\__init__.py:101\u001b[0m\n\u001b[0;32m     99\u001b[0m \u001b[38;5;28;01mfrom\u001b[39;00m \u001b[38;5;21;01m.\u001b[39;00m\u001b[38;5;21;01m_spherical_voronoi\u001b[39;00m \u001b[38;5;28;01mimport\u001b[39;00m SphericalVoronoi\n\u001b[0;32m    100\u001b[0m \u001b[38;5;28;01mfrom\u001b[39;00m \u001b[38;5;21;01m.\u001b[39;00m\u001b[38;5;21;01m_plotutils\u001b[39;00m \u001b[38;5;28;01mimport\u001b[39;00m \u001b[38;5;241m*\u001b[39m\n\u001b[1;32m--> 101\u001b[0m \u001b[38;5;28;01mfrom\u001b[39;00m \u001b[38;5;21;01m.\u001b[39;00m\u001b[38;5;21;01m_procrustes\u001b[39;00m \u001b[38;5;28;01mimport\u001b[39;00m procrustes\n\u001b[0;32m    102\u001b[0m \u001b[38;5;28;01mfrom\u001b[39;00m \u001b[38;5;21;01m.\u001b[39;00m\u001b[38;5;21;01m_geometric_slerp\u001b[39;00m \u001b[38;5;28;01mimport\u001b[39;00m geometric_slerp\n\u001b[0;32m    104\u001b[0m __all__ \u001b[38;5;241m=\u001b[39m [s \u001b[38;5;28;01mfor\u001b[39;00m s \u001b[38;5;129;01min\u001b[39;00m \u001b[38;5;28mdir\u001b[39m() \u001b[38;5;28;01mif\u001b[39;00m \u001b[38;5;129;01mnot\u001b[39;00m s\u001b[38;5;241m.\u001b[39mstartswith(\u001b[38;5;124m'\u001b[39m\u001b[38;5;124m_\u001b[39m\u001b[38;5;124m'\u001b[39m)]\n",
      "File \u001b[1;32mc:\\Program Files\\Python39\\lib\\site-packages\\scipy\\spatial\\_procrustes.py:9\u001b[0m\n\u001b[0;32m      1\u001b[0m \u001b[38;5;124;03m\"\"\"\u001b[39;00m\n\u001b[0;32m      2\u001b[0m \u001b[38;5;124;03mThis module provides functions to perform full Procrustes analysis.\u001b[39;00m\n\u001b[0;32m      3\u001b[0m \n\u001b[0;32m      4\u001b[0m \u001b[38;5;124;03mThis code was originally written by Justin Kucynski and ported over from\u001b[39;00m\n\u001b[0;32m      5\u001b[0m \u001b[38;5;124;03mscikit-bio by Yoshiki Vazquez-Baeza.\u001b[39;00m\n\u001b[0;32m      6\u001b[0m \u001b[38;5;124;03m\"\"\"\u001b[39;00m\n\u001b[0;32m      8\u001b[0m \u001b[38;5;28;01mimport\u001b[39;00m \u001b[38;5;21;01mnumpy\u001b[39;00m \u001b[38;5;28;01mas\u001b[39;00m \u001b[38;5;21;01mnp\u001b[39;00m\n\u001b[1;32m----> 9\u001b[0m \u001b[38;5;28;01mfrom\u001b[39;00m \u001b[38;5;21;01mscipy\u001b[39;00m\u001b[38;5;21;01m.\u001b[39;00m\u001b[38;5;21;01mlinalg\u001b[39;00m \u001b[38;5;28;01mimport\u001b[39;00m orthogonal_procrustes\n\u001b[0;32m     12\u001b[0m __all__ \u001b[38;5;241m=\u001b[39m [\u001b[38;5;124m'\u001b[39m\u001b[38;5;124mprocrustes\u001b[39m\u001b[38;5;124m'\u001b[39m]\n\u001b[0;32m     15\u001b[0m \u001b[38;5;28;01mdef\u001b[39;00m \u001b[38;5;21mprocrustes\u001b[39m(data1, data2):\n",
      "File \u001b[1;32mc:\\Program Files\\Python39\\lib\\site-packages\\scipy\\linalg\\__init__.py:195\u001b[0m\n\u001b[0;32m      1\u001b[0m \u001b[38;5;124;03m\"\"\"\u001b[39;00m\n\u001b[0;32m      2\u001b[0m \u001b[38;5;124;03m====================================\u001b[39;00m\n\u001b[0;32m      3\u001b[0m \u001b[38;5;124;03mLinear algebra (:mod:`scipy.linalg`)\u001b[39;00m\n\u001b[1;32m   (...)\u001b[0m\n\u001b[0;32m    192\u001b[0m \n\u001b[0;32m    193\u001b[0m \u001b[38;5;124;03m\"\"\"\u001b[39;00m  \u001b[38;5;66;03m# noqa: E501\u001b[39;00m\n\u001b[1;32m--> 195\u001b[0m \u001b[38;5;28;01mfrom\u001b[39;00m \u001b[38;5;21;01m.\u001b[39;00m\u001b[38;5;21;01mmisc\u001b[39;00m \u001b[38;5;28;01mimport\u001b[39;00m \u001b[38;5;241m*\u001b[39m\n\u001b[0;32m    196\u001b[0m \u001b[38;5;28;01mfrom\u001b[39;00m \u001b[38;5;21;01m.\u001b[39;00m\u001b[38;5;21;01mbasic\u001b[39;00m \u001b[38;5;28;01mimport\u001b[39;00m \u001b[38;5;241m*\u001b[39m\n\u001b[0;32m    197\u001b[0m \u001b[38;5;28;01mfrom\u001b[39;00m \u001b[38;5;21;01m.\u001b[39;00m\u001b[38;5;21;01mdecomp\u001b[39;00m \u001b[38;5;28;01mimport\u001b[39;00m \u001b[38;5;241m*\u001b[39m\n",
      "File \u001b[1;32m<frozen importlib._bootstrap>:1007\u001b[0m, in \u001b[0;36m_find_and_load\u001b[1;34m(name, import_)\u001b[0m\n",
      "File \u001b[1;32m<frozen importlib._bootstrap>:986\u001b[0m, in \u001b[0;36m_find_and_load_unlocked\u001b[1;34m(name, import_)\u001b[0m\n",
      "File \u001b[1;32m<frozen importlib._bootstrap>:680\u001b[0m, in \u001b[0;36m_load_unlocked\u001b[1;34m(spec)\u001b[0m\n",
      "File \u001b[1;32m<frozen importlib._bootstrap_external>:846\u001b[0m, in \u001b[0;36mexec_module\u001b[1;34m(self, module)\u001b[0m\n",
      "File \u001b[1;32m<frozen importlib._bootstrap_external>:978\u001b[0m, in \u001b[0;36mget_code\u001b[1;34m(self, fullname)\u001b[0m\n",
      "File \u001b[1;32m<frozen importlib._bootstrap_external>:647\u001b[0m, in \u001b[0;36m_compile_bytecode\u001b[1;34m(data, name, bytecode_path, source_path)\u001b[0m\n",
      "\u001b[1;31mValueError\u001b[0m: bad marshal data (unknown type code)"
     ]
    }
   ],
   "source": [
    "from sklearn.feature_extraction.text import TfidfVectorizer\n",
    "from sklearn.model_selection import train_test_split\n",
    "from sklearn.linear_model import LogisticRegression\n",
    "from sklearn.metrics import accuracy_score"
   ]
  },
  {
   "cell_type": "code",
   "execution_count": null,
   "id": "fd594e76",
   "metadata": {
    "execution": {
     "iopub.execute_input": "2023-10-04T11:16:45.995781Z",
     "iopub.status.busy": "2023-10-04T11:16:45.995377Z",
     "iopub.status.idle": "2023-10-04T11:17:01.806014Z",
     "shell.execute_reply": "2023-10-04T11:17:01.804700Z"
    },
    "papermill": {
     "duration": 15.824989,
     "end_time": "2023-10-04T11:17:01.808582",
     "exception": false,
     "start_time": "2023-10-04T11:16:45.983593",
     "status": "completed"
    },
    "tags": []
   },
   "outputs": [],
   "source": [
    "vectorizer= TfidfVectorizer()\n",
    "X=vectorizer.fit_transform(X)"
   ]
  },
  {
   "cell_type": "code",
   "execution_count": null,
   "id": "95b8bd11",
   "metadata": {
    "execution": {
     "iopub.execute_input": "2023-10-04T11:17:01.830970Z",
     "iopub.status.busy": "2023-10-04T11:17:01.830601Z",
     "iopub.status.idle": "2023-10-04T11:17:02.225854Z",
     "shell.execute_reply": "2023-10-04T11:17:02.224735Z"
    },
    "papermill": {
     "duration": 0.409522,
     "end_time": "2023-10-04T11:17:02.228561",
     "exception": false,
     "start_time": "2023-10-04T11:17:01.819039",
     "status": "completed"
    },
    "tags": []
   },
   "outputs": [],
   "source": [
    "l_vectorizer= TfidfVectorizer()\n",
    "l_X=l_vectorizer.fit_transform(l_X)"
   ]
  },
  {
   "cell_type": "code",
   "execution_count": null,
   "id": "10ae1d4c",
   "metadata": {
    "execution": {
     "iopub.execute_input": "2023-10-04T11:17:02.250888Z",
     "iopub.status.busy": "2023-10-04T11:17:02.250227Z",
     "iopub.status.idle": "2023-10-04T11:17:02.256063Z",
     "shell.execute_reply": "2023-10-04T11:17:02.254970Z"
    },
    "papermill": {
     "duration": 0.019163,
     "end_time": "2023-10-04T11:17:02.258167",
     "exception": false,
     "start_time": "2023-10-04T11:17:02.239004",
     "status": "completed"
    },
    "tags": []
   },
   "outputs": [
    {
     "name": "stdout",
     "output_type": "stream",
     "text": [
      "<class 'scipy.sparse._csr.csr_matrix'>\n",
      "(44898, 122516)\n",
      "<class 'scipy.sparse._csr.csr_matrix'>\n",
      "(1000, 22107)\n"
     ]
    }
   ],
   "source": [
    "print(type(X))\n",
    "print(X.shape)\n",
    "print(type(l_X))\n",
    "print(l_X.shape)\n"
   ]
  },
  {
   "cell_type": "code",
   "execution_count": null,
   "id": "e6c871f5",
   "metadata": {
    "execution": {
     "iopub.execute_input": "2023-10-04T11:17:02.279915Z",
     "iopub.status.busy": "2023-10-04T11:17:02.279579Z",
     "iopub.status.idle": "2023-10-04T11:17:02.335919Z",
     "shell.execute_reply": "2023-10-04T11:17:02.334787Z"
    },
    "papermill": {
     "duration": 0.070172,
     "end_time": "2023-10-04T11:17:02.338327",
     "exception": false,
     "start_time": "2023-10-04T11:17:02.268155",
     "status": "completed"
    },
    "tags": []
   },
   "outputs": [],
   "source": [
    "X_train, X_test, Y_train, Y_test = train_test_split(X, y, test_size = 0.2, stratify=y, random_state=42)"
   ]
  },
  {
   "cell_type": "code",
   "execution_count": null,
   "id": "5f5f22a6",
   "metadata": {
    "execution": {
     "iopub.execute_input": "2023-10-04T11:17:02.361251Z",
     "iopub.status.busy": "2023-10-04T11:17:02.360269Z",
     "iopub.status.idle": "2023-10-04T11:17:02.367717Z",
     "shell.execute_reply": "2023-10-04T11:17:02.366637Z"
    },
    "papermill": {
     "duration": 0.02103,
     "end_time": "2023-10-04T11:17:02.369955",
     "exception": false,
     "start_time": "2023-10-04T11:17:02.348925",
     "status": "completed"
    },
    "tags": []
   },
   "outputs": [],
   "source": [
    "l_X_train, l_X_test, l_Y_train, l_Y_test = train_test_split(l_X, l_Y, test_size = 0.2, random_state=42)"
   ]
  },
  {
   "cell_type": "code",
   "execution_count": null,
   "id": "6e1b6cdf",
   "metadata": {
    "execution": {
     "iopub.execute_input": "2023-10-04T11:17:02.393664Z",
     "iopub.status.busy": "2023-10-04T11:17:02.393259Z",
     "iopub.status.idle": "2023-10-04T11:17:02.399533Z",
     "shell.execute_reply": "2023-10-04T11:17:02.398539Z"
    },
    "papermill": {
     "duration": 0.021202,
     "end_time": "2023-10-04T11:17:02.401530",
     "exception": false,
     "start_time": "2023-10-04T11:17:02.380328",
     "status": "completed"
    },
    "tags": []
   },
   "outputs": [
    {
     "data": {
      "text/plain": [
       "(35918, 122516)"
      ]
     },
     "execution_count": 24,
     "metadata": {},
     "output_type": "execute_result"
    }
   ],
   "source": [
    "X_train.shape\n"
   ]
  },
  {
   "cell_type": "code",
   "execution_count": null,
   "id": "4bc2bf06",
   "metadata": {
    "execution": {
     "iopub.execute_input": "2023-10-04T11:17:02.424365Z",
     "iopub.status.busy": "2023-10-04T11:17:02.423951Z",
     "iopub.status.idle": "2023-10-04T11:17:06.047081Z",
     "shell.execute_reply": "2023-10-04T11:17:06.045853Z"
    },
    "papermill": {
     "duration": 3.638173,
     "end_time": "2023-10-04T11:17:06.050230",
     "exception": false,
     "start_time": "2023-10-04T11:17:02.412057",
     "status": "completed"
    },
    "tags": []
   },
   "outputs": [
    {
     "data": {
      "text/html": [
       "<style>#sk-container-id-1 {color: black;}#sk-container-id-1 pre{padding: 0;}#sk-container-id-1 div.sk-toggleable {background-color: white;}#sk-container-id-1 label.sk-toggleable__label {cursor: pointer;display: block;width: 100%;margin-bottom: 0;padding: 0.3em;box-sizing: border-box;text-align: center;}#sk-container-id-1 label.sk-toggleable__label-arrow:before {content: \"▸\";float: left;margin-right: 0.25em;color: #696969;}#sk-container-id-1 label.sk-toggleable__label-arrow:hover:before {color: black;}#sk-container-id-1 div.sk-estimator:hover label.sk-toggleable__label-arrow:before {color: black;}#sk-container-id-1 div.sk-toggleable__content {max-height: 0;max-width: 0;overflow: hidden;text-align: left;background-color: #f0f8ff;}#sk-container-id-1 div.sk-toggleable__content pre {margin: 0.2em;color: black;border-radius: 0.25em;background-color: #f0f8ff;}#sk-container-id-1 input.sk-toggleable__control:checked~div.sk-toggleable__content {max-height: 200px;max-width: 100%;overflow: auto;}#sk-container-id-1 input.sk-toggleable__control:checked~label.sk-toggleable__label-arrow:before {content: \"▾\";}#sk-container-id-1 div.sk-estimator input.sk-toggleable__control:checked~label.sk-toggleable__label {background-color: #d4ebff;}#sk-container-id-1 div.sk-label input.sk-toggleable__control:checked~label.sk-toggleable__label {background-color: #d4ebff;}#sk-container-id-1 input.sk-hidden--visually {border: 0;clip: rect(1px 1px 1px 1px);clip: rect(1px, 1px, 1px, 1px);height: 1px;margin: -1px;overflow: hidden;padding: 0;position: absolute;width: 1px;}#sk-container-id-1 div.sk-estimator {font-family: monospace;background-color: #f0f8ff;border: 1px dotted black;border-radius: 0.25em;box-sizing: border-box;margin-bottom: 0.5em;}#sk-container-id-1 div.sk-estimator:hover {background-color: #d4ebff;}#sk-container-id-1 div.sk-parallel-item::after {content: \"\";width: 100%;border-bottom: 1px solid gray;flex-grow: 1;}#sk-container-id-1 div.sk-label:hover label.sk-toggleable__label {background-color: #d4ebff;}#sk-container-id-1 div.sk-serial::before {content: \"\";position: absolute;border-left: 1px solid gray;box-sizing: border-box;top: 0;bottom: 0;left: 50%;z-index: 0;}#sk-container-id-1 div.sk-serial {display: flex;flex-direction: column;align-items: center;background-color: white;padding-right: 0.2em;padding-left: 0.2em;position: relative;}#sk-container-id-1 div.sk-item {position: relative;z-index: 1;}#sk-container-id-1 div.sk-parallel {display: flex;align-items: stretch;justify-content: center;background-color: white;position: relative;}#sk-container-id-1 div.sk-item::before, #sk-container-id-1 div.sk-parallel-item::before {content: \"\";position: absolute;border-left: 1px solid gray;box-sizing: border-box;top: 0;bottom: 0;left: 50%;z-index: -1;}#sk-container-id-1 div.sk-parallel-item {display: flex;flex-direction: column;z-index: 1;position: relative;background-color: white;}#sk-container-id-1 div.sk-parallel-item:first-child::after {align-self: flex-end;width: 50%;}#sk-container-id-1 div.sk-parallel-item:last-child::after {align-self: flex-start;width: 50%;}#sk-container-id-1 div.sk-parallel-item:only-child::after {width: 0;}#sk-container-id-1 div.sk-dashed-wrapped {border: 1px dashed gray;margin: 0 0.4em 0.5em 0.4em;box-sizing: border-box;padding-bottom: 0.4em;background-color: white;}#sk-container-id-1 div.sk-label label {font-family: monospace;font-weight: bold;display: inline-block;line-height: 1.2em;}#sk-container-id-1 div.sk-label-container {text-align: center;}#sk-container-id-1 div.sk-container {/* jupyter's `normalize.less` sets `[hidden] { display: none; }` but bootstrap.min.css set `[hidden] { display: none !important; }` so we also need the `!important` here to be able to override the default hidden behavior on the sphinx rendered scikit-learn.org. See: https://github.com/scikit-learn/scikit-learn/issues/21755 */display: inline-block !important;position: relative;}#sk-container-id-1 div.sk-text-repr-fallback {display: none;}</style><div id=\"sk-container-id-1\" class=\"sk-top-container\"><div class=\"sk-text-repr-fallback\"><pre>LogisticRegression()</pre><b>In a Jupyter environment, please rerun this cell to show the HTML representation or trust the notebook. <br />On GitHub, the HTML representation is unable to render, please try loading this page with nbviewer.org.</b></div><div class=\"sk-container\" hidden><div class=\"sk-item\"><div class=\"sk-estimator sk-toggleable\"><input class=\"sk-toggleable__control sk-hidden--visually\" id=\"sk-estimator-id-1\" type=\"checkbox\" checked><label for=\"sk-estimator-id-1\" class=\"sk-toggleable__label sk-toggleable__label-arrow\">LogisticRegression</label><div class=\"sk-toggleable__content\"><pre>LogisticRegression()</pre></div></div></div></div></div>"
      ],
      "text/plain": [
       "LogisticRegression()"
      ]
     },
     "execution_count": 25,
     "metadata": {},
     "output_type": "execute_result"
    }
   ],
   "source": [
    "model=LogisticRegression()\n",
    "model.fit(X_train,Y_train)"
   ]
  },
  {
   "cell_type": "code",
   "execution_count": null,
   "id": "789c92ee",
   "metadata": {
    "execution": {
     "iopub.execute_input": "2023-10-04T11:17:06.113727Z",
     "iopub.status.busy": "2023-10-04T11:17:06.112394Z",
     "iopub.status.idle": "2023-10-04T11:17:06.167059Z",
     "shell.execute_reply": "2023-10-04T11:17:06.165899Z"
    },
    "papermill": {
     "duration": 0.08659,
     "end_time": "2023-10-04T11:17:06.169200",
     "exception": false,
     "start_time": "2023-10-04T11:17:06.082610",
     "status": "completed"
    },
    "tags": []
   },
   "outputs": [
    {
     "name": "stdout",
     "output_type": "stream",
     "text": [
      "0.9910913140311804\n",
      "0.9946266495907344\n"
     ]
    }
   ],
   "source": [
    "# Model accuracy on the test set\n",
    "test_y_hat=model.predict(X_test)\n",
    "print(accuracy_score(test_y_hat, Y_test))\n",
    "\n",
    "# Model Accuracy on  training set\n",
    "train_y_hat = model.predict(X_train)\n",
    "print(accuracy_score(train_y_hat,Y_train))"
   ]
  },
  {
   "cell_type": "code",
   "execution_count": null,
   "id": "83a58ecb",
   "metadata": {
    "execution": {
     "iopub.execute_input": "2023-10-04T11:17:06.192425Z",
     "iopub.status.busy": "2023-10-04T11:17:06.191430Z",
     "iopub.status.idle": "2023-10-04T11:17:06.197263Z",
     "shell.execute_reply": "2023-10-04T11:17:06.196011Z"
    },
    "papermill": {
     "duration": 0.01975,
     "end_time": "2023-10-04T11:17:06.199446",
     "exception": false,
     "start_time": "2023-10-04T11:17:06.179696",
     "status": "completed"
    },
    "tags": []
   },
   "outputs": [],
   "source": [
    "def predict(input_data):\n",
    "    \n",
    "    y_hat= model.predict(input_data)\n",
    "    if y_hat==0:\n",
    "        return \"The article is Fake\"\n",
    "    else:\n",
    "        return 'The article is not Fake'"
   ]
  },
  {
   "cell_type": "code",
   "execution_count": 17,
   "id": "78ee4da9",
   "metadata": {
    "execution": {
     "iopub.execute_input": "2023-10-04T11:17:06.222480Z",
     "iopub.status.busy": "2023-10-04T11:17:06.222123Z",
     "iopub.status.idle": "2023-10-04T11:17:06.230545Z",
     "shell.execute_reply": "2023-10-04T11:17:06.229683Z"
    },
    "papermill": {
     "duration": 0.022478,
     "end_time": "2023-10-04T11:17:06.232638",
     "exception": false,
     "start_time": "2023-10-04T11:17:06.210160",
     "status": "completed"
    },
    "tags": []
   },
   "outputs": [
    {
     "ename": "NameError",
     "evalue": "name 'predict' is not defined",
     "output_type": "error",
     "traceback": [
      "\u001b[1;31m---------------------------------------------------------------------------\u001b[0m",
      "\u001b[1;31mNameError\u001b[0m                                 Traceback (most recent call last)",
      "Cell \u001b[1;32mIn[17], line 1\u001b[0m\n\u001b[1;32m----> 1\u001b[0m \u001b[38;5;28mprint\u001b[39m(\u001b[43mpredict\u001b[49m(X_test[\u001b[38;5;241m2000\u001b[39m]))\n\u001b[0;32m      2\u001b[0m model\u001b[38;5;241m.\u001b[39mpredict(X_test[\u001b[38;5;241m2000\u001b[39m])[\u001b[38;5;241m0\u001b[39m]\n",
      "\u001b[1;31mNameError\u001b[0m: name 'predict' is not defined"
     ]
    }
   ],
   "source": [
    "print(predict(X_test[2000]))\n",
    "model.predict(X_test[2000])[0]"
   ]
  },
  {
   "cell_type": "code",
   "execution_count": 29,
   "id": "f5f674af",
   "metadata": {
    "execution": {
     "iopub.execute_input": "2023-10-04T11:17:06.255975Z",
     "iopub.status.busy": "2023-10-04T11:17:06.255602Z",
     "iopub.status.idle": "2023-10-04T11:17:06.326424Z",
     "shell.execute_reply": "2023-10-04T11:17:06.324902Z"
    },
    "papermill": {
     "duration": 0.084911,
     "end_time": "2023-10-04T11:17:06.328668",
     "exception": false,
     "start_time": "2023-10-04T11:17:06.243757",
     "status": "completed"
    },
    "tags": []
   },
   "outputs": [
    {
     "name": "stdout",
     "output_type": "stream",
     "text": [
      "0.9951001278227525\n",
      "0.9946233697098749\n",
      "0.9948616916482522\n",
      "0.9929517300299018\n",
      "0.9899914821124361\n",
      "0.9914693964597995\n"
     ]
    }
   ],
   "source": [
    "from sklearn.metrics import precision_score, recall_score, f1_score\n",
    "\n",
    "print (precision_score(Y_train, train_y_hat,))\n",
    "print (recall_score(Y_train, train_y_hat,))\n",
    "print(f1_score(Y_train, train_y_hat,))\n",
    "\n",
    "\n",
    "print (precision_score(Y_test, test_y_hat,))\n",
    "print (recall_score(Y_test, test_y_hat,))\n",
    "print(f1_score(Y_test, test_y_hat,))"
   ]
  },
  {
   "cell_type": "code",
   "execution_count": 30,
   "id": "5bc6c8a5",
   "metadata": {
    "execution": {
     "iopub.execute_input": "2023-10-04T11:17:06.351594Z",
     "iopub.status.busy": "2023-10-04T11:17:06.351171Z",
     "iopub.status.idle": "2023-10-04T11:17:06.367027Z",
     "shell.execute_reply": "2023-10-04T11:17:06.365928Z"
    },
    "papermill": {
     "duration": 0.029747,
     "end_time": "2023-10-04T11:17:06.368987",
     "exception": false,
     "start_time": "2023-10-04T11:17:06.339240",
     "status": "completed"
    },
    "tags": []
   },
   "outputs": [
    {
     "name": "stdout",
     "output_type": "stream",
     "text": [
      "[['TP', 'FP'], ['FN', 'TN']]\n",
      "[[4251   33]\n",
      " [  47 4649]]\n",
      "[[17041    92]\n",
      " [  101 18684]]\n"
     ]
    }
   ],
   "source": [
    "from sklearn.metrics import confusion_matrix\n",
    "print ([['TP', 'FP'],['FN', 'TN']])\n",
    "print(confusion_matrix(Y_test, test_y_hat,))\n",
    "print (confusion_matrix(Y_train, train_y_hat,))"
   ]
  },
  {
   "cell_type": "code",
   "execution_count": 31,
   "id": "42fc4b78",
   "metadata": {
    "execution": {
     "iopub.execute_input": "2023-10-04T11:17:06.391811Z",
     "iopub.status.busy": "2023-10-04T11:17:06.391445Z",
     "iopub.status.idle": "2023-10-04T11:17:06.396187Z",
     "shell.execute_reply": "2023-10-04T11:17:06.395173Z"
    },
    "papermill": {
     "duration": 0.018418,
     "end_time": "2023-10-04T11:17:06.397971",
     "exception": false,
     "start_time": "2023-10-04T11:17:06.379553",
     "status": "completed"
    },
    "tags": []
   },
   "outputs": [],
   "source": [
    "from sklearn import svm\n",
    "\n",
    "#Create a svm Classifier\n",
    "model = svm.SVC(kernel='linear') # Linear Kernel\n",
    "clf_poly=clf = svm.SVC(kernel='poly') # Polynomial kernel\n"
   ]
  },
  {
   "cell_type": "code",
   "execution_count": 32,
   "id": "4da77b50",
   "metadata": {
    "execution": {
     "iopub.execute_input": "2023-10-04T11:17:06.422143Z",
     "iopub.status.busy": "2023-10-04T11:17:06.421788Z",
     "iopub.status.idle": "2023-10-04T11:17:06.426835Z",
     "shell.execute_reply": "2023-10-04T11:17:06.425844Z"
    },
    "papermill": {
     "duration": 0.019181,
     "end_time": "2023-10-04T11:17:06.428932",
     "exception": false,
     "start_time": "2023-10-04T11:17:06.409751",
     "status": "completed"
    },
    "tags": []
   },
   "outputs": [
    {
     "name": "stdout",
     "output_type": "stream",
     "text": [
      "(35918, 122516)\n"
     ]
    }
   ],
   "source": [
    "print(X_train.shape)\n",
    "# X_train.iloc[0:1000].shape\n",
    "\n"
   ]
  },
  {
   "cell_type": "code",
   "execution_count": 33,
   "id": "03971d5b",
   "metadata": {
    "execution": {
     "iopub.execute_input": "2023-10-04T11:17:06.452270Z",
     "iopub.status.busy": "2023-10-04T11:17:06.451928Z",
     "iopub.status.idle": "2023-10-04T11:17:07.689236Z",
     "shell.execute_reply": "2023-10-04T11:17:07.688300Z"
    },
    "papermill": {
     "duration": 1.251336,
     "end_time": "2023-10-04T11:17:07.691183",
     "exception": false,
     "start_time": "2023-10-04T11:17:06.439847",
     "status": "completed"
    },
    "tags": []
   },
   "outputs": [
    {
     "data": {
      "text/html": [
       "<style>#sk-container-id-2 {color: black;}#sk-container-id-2 pre{padding: 0;}#sk-container-id-2 div.sk-toggleable {background-color: white;}#sk-container-id-2 label.sk-toggleable__label {cursor: pointer;display: block;width: 100%;margin-bottom: 0;padding: 0.3em;box-sizing: border-box;text-align: center;}#sk-container-id-2 label.sk-toggleable__label-arrow:before {content: \"▸\";float: left;margin-right: 0.25em;color: #696969;}#sk-container-id-2 label.sk-toggleable__label-arrow:hover:before {color: black;}#sk-container-id-2 div.sk-estimator:hover label.sk-toggleable__label-arrow:before {color: black;}#sk-container-id-2 div.sk-toggleable__content {max-height: 0;max-width: 0;overflow: hidden;text-align: left;background-color: #f0f8ff;}#sk-container-id-2 div.sk-toggleable__content pre {margin: 0.2em;color: black;border-radius: 0.25em;background-color: #f0f8ff;}#sk-container-id-2 input.sk-toggleable__control:checked~div.sk-toggleable__content {max-height: 200px;max-width: 100%;overflow: auto;}#sk-container-id-2 input.sk-toggleable__control:checked~label.sk-toggleable__label-arrow:before {content: \"▾\";}#sk-container-id-2 div.sk-estimator input.sk-toggleable__control:checked~label.sk-toggleable__label {background-color: #d4ebff;}#sk-container-id-2 div.sk-label input.sk-toggleable__control:checked~label.sk-toggleable__label {background-color: #d4ebff;}#sk-container-id-2 input.sk-hidden--visually {border: 0;clip: rect(1px 1px 1px 1px);clip: rect(1px, 1px, 1px, 1px);height: 1px;margin: -1px;overflow: hidden;padding: 0;position: absolute;width: 1px;}#sk-container-id-2 div.sk-estimator {font-family: monospace;background-color: #f0f8ff;border: 1px dotted black;border-radius: 0.25em;box-sizing: border-box;margin-bottom: 0.5em;}#sk-container-id-2 div.sk-estimator:hover {background-color: #d4ebff;}#sk-container-id-2 div.sk-parallel-item::after {content: \"\";width: 100%;border-bottom: 1px solid gray;flex-grow: 1;}#sk-container-id-2 div.sk-label:hover label.sk-toggleable__label {background-color: #d4ebff;}#sk-container-id-2 div.sk-serial::before {content: \"\";position: absolute;border-left: 1px solid gray;box-sizing: border-box;top: 0;bottom: 0;left: 50%;z-index: 0;}#sk-container-id-2 div.sk-serial {display: flex;flex-direction: column;align-items: center;background-color: white;padding-right: 0.2em;padding-left: 0.2em;position: relative;}#sk-container-id-2 div.sk-item {position: relative;z-index: 1;}#sk-container-id-2 div.sk-parallel {display: flex;align-items: stretch;justify-content: center;background-color: white;position: relative;}#sk-container-id-2 div.sk-item::before, #sk-container-id-2 div.sk-parallel-item::before {content: \"\";position: absolute;border-left: 1px solid gray;box-sizing: border-box;top: 0;bottom: 0;left: 50%;z-index: -1;}#sk-container-id-2 div.sk-parallel-item {display: flex;flex-direction: column;z-index: 1;position: relative;background-color: white;}#sk-container-id-2 div.sk-parallel-item:first-child::after {align-self: flex-end;width: 50%;}#sk-container-id-2 div.sk-parallel-item:last-child::after {align-self: flex-start;width: 50%;}#sk-container-id-2 div.sk-parallel-item:only-child::after {width: 0;}#sk-container-id-2 div.sk-dashed-wrapped {border: 1px dashed gray;margin: 0 0.4em 0.5em 0.4em;box-sizing: border-box;padding-bottom: 0.4em;background-color: white;}#sk-container-id-2 div.sk-label label {font-family: monospace;font-weight: bold;display: inline-block;line-height: 1.2em;}#sk-container-id-2 div.sk-label-container {text-align: center;}#sk-container-id-2 div.sk-container {/* jupyter's `normalize.less` sets `[hidden] { display: none; }` but bootstrap.min.css set `[hidden] { display: none !important; }` so we also need the `!important` here to be able to override the default hidden behavior on the sphinx rendered scikit-learn.org. See: https://github.com/scikit-learn/scikit-learn/issues/21755 */display: inline-block !important;position: relative;}#sk-container-id-2 div.sk-text-repr-fallback {display: none;}</style><div id=\"sk-container-id-2\" class=\"sk-top-container\"><div class=\"sk-text-repr-fallback\"><pre>SVC(kernel=&#x27;linear&#x27;)</pre><b>In a Jupyter environment, please rerun this cell to show the HTML representation or trust the notebook. <br />On GitHub, the HTML representation is unable to render, please try loading this page with nbviewer.org.</b></div><div class=\"sk-container\" hidden><div class=\"sk-item\"><div class=\"sk-estimator sk-toggleable\"><input class=\"sk-toggleable__control sk-hidden--visually\" id=\"sk-estimator-id-2\" type=\"checkbox\" checked><label for=\"sk-estimator-id-2\" class=\"sk-toggleable__label sk-toggleable__label-arrow\">SVC</label><div class=\"sk-toggleable__content\"><pre>SVC(kernel=&#x27;linear&#x27;)</pre></div></div></div></div></div>"
      ],
      "text/plain": [
       "SVC(kernel='linear')"
      ]
     },
     "execution_count": 33,
     "metadata": {},
     "output_type": "execute_result"
    }
   ],
   "source": [
    "#Train the model using the training sets\n",
    "model.fit(l_X_train, l_Y_train)\n",
    "# clf_poly.fit(X_train,Y_train)\n",
    "\n"
   ]
  },
  {
   "cell_type": "code",
   "execution_count": 34,
   "id": "b7fc9c5d",
   "metadata": {
    "execution": {
     "iopub.execute_input": "2023-10-04T11:17:07.714813Z",
     "iopub.status.busy": "2023-10-04T11:17:07.714425Z",
     "iopub.status.idle": "2023-10-04T11:17:07.954723Z",
     "shell.execute_reply": "2023-10-04T11:17:07.953611Z"
    },
    "papermill": {
     "duration": 0.254985,
     "end_time": "2023-10-04T11:17:07.957184",
     "exception": false,
     "start_time": "2023-10-04T11:17:07.702199",
     "status": "completed"
    },
    "tags": []
   },
   "outputs": [],
   "source": [
    "#Predict the response for test dataset\n",
    "y_pred = model.predict(l_X_test)"
   ]
  },
  {
   "cell_type": "code",
   "execution_count": 35,
   "id": "8e2bd2a8",
   "metadata": {
    "execution": {
     "iopub.execute_input": "2023-10-04T11:17:07.981206Z",
     "iopub.status.busy": "2023-10-04T11:17:07.980792Z",
     "iopub.status.idle": "2023-10-04T11:17:07.994338Z",
     "shell.execute_reply": "2023-10-04T11:17:07.993358Z"
    },
    "papermill": {
     "duration": 0.028023,
     "end_time": "2023-10-04T11:17:07.996704",
     "exception": false,
     "start_time": "2023-10-04T11:17:07.968681",
     "status": "completed"
    },
    "tags": []
   },
   "outputs": [
    {
     "name": "stdout",
     "output_type": "stream",
     "text": [
      "0.975\n",
      "0.9900990099009901\n",
      "0.9615384615384616\n",
      "0.975609756097561\n",
      "[[ 95   1]\n",
      " [  4 100]]\n"
     ]
    }
   ],
   "source": [
    "from sklearn.metrics import precision_score, recall_score, f1_score, accuracy_score\n",
    "\n",
    "print(accuracy_score(y_pred, l_Y_test))\n",
    "print (precision_score(l_Y_test, y_pred,))\n",
    "print (recall_score(l_Y_test, y_pred,))\n",
    "print(f1_score(l_Y_test, y_pred,))\n",
    "print(confusion_matrix(l_Y_test, y_pred,))\n"
   ]
  },
  {
   "cell_type": "code",
   "execution_count": 36,
   "id": "8f4188e9",
   "metadata": {
    "execution": {
     "iopub.execute_input": "2023-10-04T11:17:08.020712Z",
     "iopub.status.busy": "2023-10-04T11:17:08.020324Z",
     "iopub.status.idle": "2023-10-04T11:17:08.962028Z",
     "shell.execute_reply": "2023-10-04T11:17:08.960965Z"
    },
    "papermill": {
     "duration": 0.956221,
     "end_time": "2023-10-04T11:17:08.964182",
     "exception": false,
     "start_time": "2023-10-04T11:17:08.007961",
     "status": "completed"
    },
    "tags": []
   },
   "outputs": [
    {
     "data": {
      "text/html": [
       "<style>#sk-container-id-3 {color: black;}#sk-container-id-3 pre{padding: 0;}#sk-container-id-3 div.sk-toggleable {background-color: white;}#sk-container-id-3 label.sk-toggleable__label {cursor: pointer;display: block;width: 100%;margin-bottom: 0;padding: 0.3em;box-sizing: border-box;text-align: center;}#sk-container-id-3 label.sk-toggleable__label-arrow:before {content: \"▸\";float: left;margin-right: 0.25em;color: #696969;}#sk-container-id-3 label.sk-toggleable__label-arrow:hover:before {color: black;}#sk-container-id-3 div.sk-estimator:hover label.sk-toggleable__label-arrow:before {color: black;}#sk-container-id-3 div.sk-toggleable__content {max-height: 0;max-width: 0;overflow: hidden;text-align: left;background-color: #f0f8ff;}#sk-container-id-3 div.sk-toggleable__content pre {margin: 0.2em;color: black;border-radius: 0.25em;background-color: #f0f8ff;}#sk-container-id-3 input.sk-toggleable__control:checked~div.sk-toggleable__content {max-height: 200px;max-width: 100%;overflow: auto;}#sk-container-id-3 input.sk-toggleable__control:checked~label.sk-toggleable__label-arrow:before {content: \"▾\";}#sk-container-id-3 div.sk-estimator input.sk-toggleable__control:checked~label.sk-toggleable__label {background-color: #d4ebff;}#sk-container-id-3 div.sk-label input.sk-toggleable__control:checked~label.sk-toggleable__label {background-color: #d4ebff;}#sk-container-id-3 input.sk-hidden--visually {border: 0;clip: rect(1px 1px 1px 1px);clip: rect(1px, 1px, 1px, 1px);height: 1px;margin: -1px;overflow: hidden;padding: 0;position: absolute;width: 1px;}#sk-container-id-3 div.sk-estimator {font-family: monospace;background-color: #f0f8ff;border: 1px dotted black;border-radius: 0.25em;box-sizing: border-box;margin-bottom: 0.5em;}#sk-container-id-3 div.sk-estimator:hover {background-color: #d4ebff;}#sk-container-id-3 div.sk-parallel-item::after {content: \"\";width: 100%;border-bottom: 1px solid gray;flex-grow: 1;}#sk-container-id-3 div.sk-label:hover label.sk-toggleable__label {background-color: #d4ebff;}#sk-container-id-3 div.sk-serial::before {content: \"\";position: absolute;border-left: 1px solid gray;box-sizing: border-box;top: 0;bottom: 0;left: 50%;z-index: 0;}#sk-container-id-3 div.sk-serial {display: flex;flex-direction: column;align-items: center;background-color: white;padding-right: 0.2em;padding-left: 0.2em;position: relative;}#sk-container-id-3 div.sk-item {position: relative;z-index: 1;}#sk-container-id-3 div.sk-parallel {display: flex;align-items: stretch;justify-content: center;background-color: white;position: relative;}#sk-container-id-3 div.sk-item::before, #sk-container-id-3 div.sk-parallel-item::before {content: \"\";position: absolute;border-left: 1px solid gray;box-sizing: border-box;top: 0;bottom: 0;left: 50%;z-index: -1;}#sk-container-id-3 div.sk-parallel-item {display: flex;flex-direction: column;z-index: 1;position: relative;background-color: white;}#sk-container-id-3 div.sk-parallel-item:first-child::after {align-self: flex-end;width: 50%;}#sk-container-id-3 div.sk-parallel-item:last-child::after {align-self: flex-start;width: 50%;}#sk-container-id-3 div.sk-parallel-item:only-child::after {width: 0;}#sk-container-id-3 div.sk-dashed-wrapped {border: 1px dashed gray;margin: 0 0.4em 0.5em 0.4em;box-sizing: border-box;padding-bottom: 0.4em;background-color: white;}#sk-container-id-3 div.sk-label label {font-family: monospace;font-weight: bold;display: inline-block;line-height: 1.2em;}#sk-container-id-3 div.sk-label-container {text-align: center;}#sk-container-id-3 div.sk-container {/* jupyter's `normalize.less` sets `[hidden] { display: none; }` but bootstrap.min.css set `[hidden] { display: none !important; }` so we also need the `!important` here to be able to override the default hidden behavior on the sphinx rendered scikit-learn.org. See: https://github.com/scikit-learn/scikit-learn/issues/21755 */display: inline-block !important;position: relative;}#sk-container-id-3 div.sk-text-repr-fallback {display: none;}</style><div id=\"sk-container-id-3\" class=\"sk-top-container\"><div class=\"sk-text-repr-fallback\"><pre>RandomForestClassifier()</pre><b>In a Jupyter environment, please rerun this cell to show the HTML representation or trust the notebook. <br />On GitHub, the HTML representation is unable to render, please try loading this page with nbviewer.org.</b></div><div class=\"sk-container\" hidden><div class=\"sk-item\"><div class=\"sk-estimator sk-toggleable\"><input class=\"sk-toggleable__control sk-hidden--visually\" id=\"sk-estimator-id-3\" type=\"checkbox\" checked><label for=\"sk-estimator-id-3\" class=\"sk-toggleable__label sk-toggleable__label-arrow\">RandomForestClassifier</label><div class=\"sk-toggleable__content\"><pre>RandomForestClassifier()</pre></div></div></div></div></div>"
      ],
      "text/plain": [
       "RandomForestClassifier()"
      ]
     },
     "execution_count": 36,
     "metadata": {},
     "output_type": "execute_result"
    }
   ],
   "source": [
    "from sklearn.ensemble import RandomForestClassifier\n",
    "model = RandomForestClassifier()\n",
    "model.fit(l_X_train, l_Y_train)\n",
    "\n"
   ]
  },
  {
   "cell_type": "code",
   "execution_count": 37,
   "id": "09d1da66",
   "metadata": {
    "execution": {
     "iopub.execute_input": "2023-10-04T11:17:08.987517Z",
     "iopub.status.busy": "2023-10-04T11:17:08.987169Z",
     "iopub.status.idle": "2023-10-04T11:17:09.015941Z",
     "shell.execute_reply": "2023-10-04T11:17:09.014747Z"
    },
    "papermill": {
     "duration": 0.04303,
     "end_time": "2023-10-04T11:17:09.018272",
     "exception": false,
     "start_time": "2023-10-04T11:17:08.975242",
     "status": "completed"
    },
    "tags": []
   },
   "outputs": [],
   "source": [
    "y_pred = model.predict(l_X_test)\n",
    "\n"
   ]
  },
  {
   "cell_type": "code",
   "execution_count": 38,
   "id": "d67aab3a",
   "metadata": {
    "execution": {
     "iopub.execute_input": "2023-10-04T11:17:09.042706Z",
     "iopub.status.busy": "2023-10-04T11:17:09.042312Z",
     "iopub.status.idle": "2023-10-04T11:17:09.046983Z",
     "shell.execute_reply": "2023-10-04T11:17:09.046322Z"
    },
    "papermill": {
     "duration": 0.019346,
     "end_time": "2023-10-04T11:17:09.049108",
     "exception": false,
     "start_time": "2023-10-04T11:17:09.029762",
     "status": "completed"
    },
    "tags": []
   },
   "outputs": [
    {
     "name": "stdout",
     "output_type": "stream",
     "text": [
      "[0 1 0 0 0 0 1 1 1 0 0 0 1 1 0 0 1 1 0 0 1 0 1 0 0 1 1 1 1 0 0 1 0 0 0 0 1\n",
      " 0 0 0 0 0 1 0 0 1 0 1 0 0 1 1 0 1 1 1 0 1 1 0 1 1 1 0 0 0 1 1 0 1 1 1 0 0\n",
      " 0 1 0 1 0 0 0 1 0 1 1 0 1 1 0 0 0 1 0 1 1 1 1 0 0 0 0 1 0 1 0 1 0 1 0 1 0\n",
      " 1 1 1 1 0 1 1 1 1 0 0 0 1 0 1 0 0 1 0 1 1 1 1 1 1 1 0 1 1 1 1 0 1 1 0 0 1\n",
      " 1 1 0 0 1 1 0 1 1 0 1 0 1 1 1 1 1 0 1 0 0 0 0 0 0 0 0 1 0 1 0 0 1 1 0 1 0\n",
      " 0 0 0 1 1 0 1 1 1 1 0 1 0 0 1]\n"
     ]
    }
   ],
   "source": [
    "print (y_pred)"
   ]
  },
  {
   "cell_type": "code",
   "execution_count": 39,
   "id": "cc6f4112",
   "metadata": {
    "execution": {
     "iopub.execute_input": "2023-10-04T11:17:09.072810Z",
     "iopub.status.busy": "2023-10-04T11:17:09.072213Z",
     "iopub.status.idle": "2023-10-04T11:17:09.083223Z",
     "shell.execute_reply": "2023-10-04T11:17:09.082004Z"
    },
    "papermill": {
     "duration": 0.024964,
     "end_time": "2023-10-04T11:17:09.085094",
     "exception": false,
     "start_time": "2023-10-04T11:17:09.060130",
     "status": "completed"
    },
    "tags": []
   },
   "outputs": [
    {
     "name": "stdout",
     "output_type": "stream",
     "text": [
      "0.99\n",
      "1.0\n",
      "0.9807692307692307\n",
      "0.9902912621359222\n",
      "[[ 96   0]\n",
      " [  2 102]]\n"
     ]
    }
   ],
   "source": [
    "from sklearn.metrics import precision_score, recall_score, f1_score, accuracy_score,confusion_matrix\n",
    "\n",
    "\n",
    "print(accuracy_score(y_pred, l_Y_test))\n",
    "print (precision_score(l_Y_test, y_pred,))\n",
    "print (recall_score(l_Y_test, y_pred,))\n",
    "print(f1_score(l_Y_test, y_pred,))\n",
    "print(confusion_matrix(l_Y_test, y_pred,))\n"
   ]
  },
  {
   "cell_type": "code",
   "execution_count": 40,
   "id": "470ad5b2",
   "metadata": {
    "execution": {
     "iopub.execute_input": "2023-10-04T11:17:09.108972Z",
     "iopub.status.busy": "2023-10-04T11:17:09.108355Z",
     "iopub.status.idle": "2023-10-04T11:17:09.120548Z",
     "shell.execute_reply": "2023-10-04T11:17:09.119698Z"
    },
    "papermill": {
     "duration": 0.026681,
     "end_time": "2023-10-04T11:17:09.122831",
     "exception": false,
     "start_time": "2023-10-04T11:17:09.096150",
     "status": "completed"
    },
    "tags": []
   },
   "outputs": [],
   "source": [
    "from sklearn.naive_bayes import GaussianNB\n",
    "model = GaussianNB()\n"
   ]
  },
  {
   "cell_type": "code",
   "execution_count": 41,
   "id": "91404ebf",
   "metadata": {
    "execution": {
     "iopub.execute_input": "2023-10-04T11:17:09.146987Z",
     "iopub.status.busy": "2023-10-04T11:17:09.146643Z",
     "iopub.status.idle": "2023-10-04T11:17:09.150862Z",
     "shell.execute_reply": "2023-10-04T11:17:09.149882Z"
    },
    "papermill": {
     "duration": 0.018544,
     "end_time": "2023-10-04T11:17:09.152718",
     "exception": false,
     "start_time": "2023-10-04T11:17:09.134174",
     "status": "completed"
    },
    "tags": []
   },
   "outputs": [],
   "source": [
    "# X_train.todense()\n",
    "# model2=GaussianNB()\n",
    "# model2.fit(X_train.toarray(), Y_train)"
   ]
  },
  {
   "cell_type": "code",
   "execution_count": 42,
   "id": "09a2a056",
   "metadata": {
    "execution": {
     "iopub.execute_input": "2023-10-04T11:17:09.178044Z",
     "iopub.status.busy": "2023-10-04T11:17:09.176954Z",
     "iopub.status.idle": "2023-10-04T11:17:09.184311Z",
     "shell.execute_reply": "2023-10-04T11:17:09.183338Z"
    },
    "papermill": {
     "duration": 0.022096,
     "end_time": "2023-10-04T11:17:09.186505",
     "exception": false,
     "start_time": "2023-10-04T11:17:09.164409",
     "status": "completed"
    },
    "tags": []
   },
   "outputs": [
    {
     "data": {
      "text/plain": [
       "array([0, 1, 0, 0, 0, 0, 1, 1, 1, 0, 0, 0, 1, 1, 0, 0, 1, 1, 0, 0, 1, 0,\n",
       "       1, 0, 0, 1, 1, 1, 1, 0, 0, 1, 0, 0, 0, 0, 1, 0, 0, 0, 0, 0, 1, 0,\n",
       "       0, 1, 0, 1, 0, 0, 1, 1, 0, 1, 1, 1, 0, 1, 1, 0, 1, 1, 1, 0, 0, 0,\n",
       "       1, 1, 0, 1, 1, 1, 0, 0, 0, 1, 0, 1, 0, 0, 0, 1, 0, 1, 1, 0, 1, 1,\n",
       "       0, 0, 0, 1, 0, 1, 1, 1, 1, 0, 0, 0, 0, 1, 0, 1, 0, 1, 0, 1, 0, 1,\n",
       "       0, 1, 1, 1, 1, 0, 1, 1, 1, 1, 0, 0, 0, 1, 0, 1, 0, 0, 1, 0, 1, 1,\n",
       "       1, 1, 1, 1, 1, 0, 1, 1, 1, 1, 0, 1, 1, 0, 0, 1, 1, 1, 0, 0, 1, 1,\n",
       "       0, 1, 1, 0, 1, 0, 1, 1, 1, 1, 1, 0, 1, 0, 0, 0, 0, 0, 0, 0, 0, 1,\n",
       "       0, 1, 0, 0, 1, 1, 0, 1, 0, 0, 0, 0, 1, 1, 0, 1, 1, 1, 1, 0, 1, 0,\n",
       "       0, 1], dtype=int64)"
      ]
     },
     "execution_count": 42,
     "metadata": {},
     "output_type": "execute_result"
    }
   ],
   "source": [
    "y_pred"
   ]
  },
  {
   "cell_type": "code",
   "execution_count": 43,
   "id": "5dd95b77",
   "metadata": {
    "execution": {
     "iopub.execute_input": "2023-10-04T11:17:09.211366Z",
     "iopub.status.busy": "2023-10-04T11:17:09.210414Z",
     "iopub.status.idle": "2023-10-04T11:17:09.703810Z",
     "shell.execute_reply": "2023-10-04T11:17:09.702769Z"
    },
    "papermill": {
     "duration": 0.508023,
     "end_time": "2023-10-04T11:17:09.706031",
     "exception": false,
     "start_time": "2023-10-04T11:17:09.198008",
     "status": "completed"
    },
    "tags": []
   },
   "outputs": [
    {
     "data": {
      "text/html": [
       "<style>#sk-container-id-4 {color: black;}#sk-container-id-4 pre{padding: 0;}#sk-container-id-4 div.sk-toggleable {background-color: white;}#sk-container-id-4 label.sk-toggleable__label {cursor: pointer;display: block;width: 100%;margin-bottom: 0;padding: 0.3em;box-sizing: border-box;text-align: center;}#sk-container-id-4 label.sk-toggleable__label-arrow:before {content: \"▸\";float: left;margin-right: 0.25em;color: #696969;}#sk-container-id-4 label.sk-toggleable__label-arrow:hover:before {color: black;}#sk-container-id-4 div.sk-estimator:hover label.sk-toggleable__label-arrow:before {color: black;}#sk-container-id-4 div.sk-toggleable__content {max-height: 0;max-width: 0;overflow: hidden;text-align: left;background-color: #f0f8ff;}#sk-container-id-4 div.sk-toggleable__content pre {margin: 0.2em;color: black;border-radius: 0.25em;background-color: #f0f8ff;}#sk-container-id-4 input.sk-toggleable__control:checked~div.sk-toggleable__content {max-height: 200px;max-width: 100%;overflow: auto;}#sk-container-id-4 input.sk-toggleable__control:checked~label.sk-toggleable__label-arrow:before {content: \"▾\";}#sk-container-id-4 div.sk-estimator input.sk-toggleable__control:checked~label.sk-toggleable__label {background-color: #d4ebff;}#sk-container-id-4 div.sk-label input.sk-toggleable__control:checked~label.sk-toggleable__label {background-color: #d4ebff;}#sk-container-id-4 input.sk-hidden--visually {border: 0;clip: rect(1px 1px 1px 1px);clip: rect(1px, 1px, 1px, 1px);height: 1px;margin: -1px;overflow: hidden;padding: 0;position: absolute;width: 1px;}#sk-container-id-4 div.sk-estimator {font-family: monospace;background-color: #f0f8ff;border: 1px dotted black;border-radius: 0.25em;box-sizing: border-box;margin-bottom: 0.5em;}#sk-container-id-4 div.sk-estimator:hover {background-color: #d4ebff;}#sk-container-id-4 div.sk-parallel-item::after {content: \"\";width: 100%;border-bottom: 1px solid gray;flex-grow: 1;}#sk-container-id-4 div.sk-label:hover label.sk-toggleable__label {background-color: #d4ebff;}#sk-container-id-4 div.sk-serial::before {content: \"\";position: absolute;border-left: 1px solid gray;box-sizing: border-box;top: 0;bottom: 0;left: 50%;z-index: 0;}#sk-container-id-4 div.sk-serial {display: flex;flex-direction: column;align-items: center;background-color: white;padding-right: 0.2em;padding-left: 0.2em;position: relative;}#sk-container-id-4 div.sk-item {position: relative;z-index: 1;}#sk-container-id-4 div.sk-parallel {display: flex;align-items: stretch;justify-content: center;background-color: white;position: relative;}#sk-container-id-4 div.sk-item::before, #sk-container-id-4 div.sk-parallel-item::before {content: \"\";position: absolute;border-left: 1px solid gray;box-sizing: border-box;top: 0;bottom: 0;left: 50%;z-index: -1;}#sk-container-id-4 div.sk-parallel-item {display: flex;flex-direction: column;z-index: 1;position: relative;background-color: white;}#sk-container-id-4 div.sk-parallel-item:first-child::after {align-self: flex-end;width: 50%;}#sk-container-id-4 div.sk-parallel-item:last-child::after {align-self: flex-start;width: 50%;}#sk-container-id-4 div.sk-parallel-item:only-child::after {width: 0;}#sk-container-id-4 div.sk-dashed-wrapped {border: 1px dashed gray;margin: 0 0.4em 0.5em 0.4em;box-sizing: border-box;padding-bottom: 0.4em;background-color: white;}#sk-container-id-4 div.sk-label label {font-family: monospace;font-weight: bold;display: inline-block;line-height: 1.2em;}#sk-container-id-4 div.sk-label-container {text-align: center;}#sk-container-id-4 div.sk-container {/* jupyter's `normalize.less` sets `[hidden] { display: none; }` but bootstrap.min.css set `[hidden] { display: none !important; }` so we also need the `!important` here to be able to override the default hidden behavior on the sphinx rendered scikit-learn.org. See: https://github.com/scikit-learn/scikit-learn/issues/21755 */display: inline-block !important;position: relative;}#sk-container-id-4 div.sk-text-repr-fallback {display: none;}</style><div id=\"sk-container-id-4\" class=\"sk-top-container\"><div class=\"sk-text-repr-fallback\"><pre>GaussianNB()</pre><b>In a Jupyter environment, please rerun this cell to show the HTML representation or trust the notebook. <br />On GitHub, the HTML representation is unable to render, please try loading this page with nbviewer.org.</b></div><div class=\"sk-container\" hidden><div class=\"sk-item\"><div class=\"sk-estimator sk-toggleable\"><input class=\"sk-toggleable__control sk-hidden--visually\" id=\"sk-estimator-id-4\" type=\"checkbox\" checked><label for=\"sk-estimator-id-4\" class=\"sk-toggleable__label sk-toggleable__label-arrow\">GaussianNB</label><div class=\"sk-toggleable__content\"><pre>GaussianNB()</pre></div></div></div></div></div>"
      ],
      "text/plain": [
       "GaussianNB()"
      ]
     },
     "execution_count": 43,
     "metadata": {},
     "output_type": "execute_result"
    }
   ],
   "source": [
    "model.fit(l_X_train.toarray(), l_Y_train)\n"
   ]
  },
  {
   "cell_type": "code",
   "execution_count": 44,
   "id": "34cfa3a4",
   "metadata": {
    "execution": {
     "iopub.execute_input": "2023-10-04T11:17:09.731468Z",
     "iopub.status.busy": "2023-10-04T11:17:09.731087Z",
     "iopub.status.idle": "2023-10-04T11:17:09.856775Z",
     "shell.execute_reply": "2023-10-04T11:17:09.855865Z"
    },
    "papermill": {
     "duration": 0.141319,
     "end_time": "2023-10-04T11:17:09.859096",
     "exception": false,
     "start_time": "2023-10-04T11:17:09.717777",
     "status": "completed"
    },
    "tags": []
   },
   "outputs": [],
   "source": [
    "y_pred = model.predict(l_X_test.toarray())\n"
   ]
  },
  {
   "cell_type": "code",
   "execution_count": 45,
   "id": "f1fdcf63",
   "metadata": {
    "execution": {
     "iopub.execute_input": "2023-10-04T11:17:09.883421Z",
     "iopub.status.busy": "2023-10-04T11:17:09.883050Z",
     "iopub.status.idle": "2023-10-04T11:17:09.895022Z",
     "shell.execute_reply": "2023-10-04T11:17:09.893965Z"
    },
    "papermill": {
     "duration": 0.026203,
     "end_time": "2023-10-04T11:17:09.896848",
     "exception": false,
     "start_time": "2023-10-04T11:17:09.870645",
     "status": "completed"
    },
    "tags": []
   },
   "outputs": [
    {
     "name": "stdout",
     "output_type": "stream",
     "text": [
      "0.815\n",
      "0.7637795275590551\n",
      "0.9326923076923077\n",
      "0.8398268398268398\n",
      "[[66 30]\n",
      " [ 7 97]]\n"
     ]
    }
   ],
   "source": [
    "print(accuracy_score(y_pred, l_Y_test))\n",
    "print (precision_score(l_Y_test, y_pred,))\n",
    "print (recall_score(l_Y_test, y_pred,))\n",
    "print(f1_score(l_Y_test, y_pred,))\n",
    "print(confusion_matrix(l_Y_test, y_pred,))\n"
   ]
  },
  {
   "cell_type": "code",
   "execution_count": null,
   "id": "577a0b30",
   "metadata": {
    "papermill": {
     "duration": 0.011371,
     "end_time": "2023-10-04T11:17:09.919860",
     "exception": false,
     "start_time": "2023-10-04T11:17:09.908489",
     "status": "completed"
    },
    "tags": []
   },
   "outputs": [],
   "source": []
  },
  {
   "cell_type": "code",
   "execution_count": null,
   "id": "cadc8eb3",
   "metadata": {},
   "outputs": [],
   "source": []
  },
  {
   "cell_type": "code",
   "execution_count": null,
   "id": "f8c5785e",
   "metadata": {},
   "outputs": [],
   "source": []
  },
  {
   "cell_type": "code",
   "execution_count": null,
   "id": "5422fab5",
   "metadata": {},
   "outputs": [],
   "source": []
  }
 ],
 "metadata": {
  "kernelspec": {
   "display_name": "Python 3",
   "language": "python",
   "name": "python3"
  },
  "language_info": {
   "codemirror_mode": {
    "name": "ipython",
    "version": 3
   },
   "file_extension": ".py",
   "mimetype": "text/x-python",
   "name": "python",
   "nbconvert_exporter": "python",
   "pygments_lexer": "ipython3",
   "version": "3.9.7"
  },
  "papermill": {
   "default_parameters": {},
   "duration": 33.162027,
   "end_time": "2023-10-04T11:17:10.551879",
   "environment_variables": {},
   "exception": null,
   "input_path": "__notebook__.ipynb",
   "output_path": "__notebook__.ipynb",
   "parameters": {},
   "start_time": "2023-10-04T11:16:37.389852",
   "version": "2.4.0"
  }
 },
 "nbformat": 4,
 "nbformat_minor": 5
}
